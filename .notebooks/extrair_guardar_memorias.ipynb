{
 "cells": [
  {
   "cell_type": "markdown",
   "metadata": {},
   "source": [
    "# Entendendo o Conceito de Extração e Armazenamento de Memórias"
   ]
  },
  {
   "cell_type": "code",
   "execution_count": null,
   "metadata": {},
   "outputs": [],
   "source": [
    "#Para acessar o dashboard do qdrand: http://localhost:6333/dashboard#/collections\n",
    "from langchain_groq import ChatGroq\n",
    "from pydantic import BaseModel, Field\n",
    "from typing import Optional\n",
    "\n",
    "from instituto_langchain.brian.core.prompts import PROMPT_ANALISE_MEMORIA\n",
    "from instituto_langchain.settings import settings"
   ]
  },
  {
   "cell_type": "code",
   "execution_count": 11,
   "metadata": {},
   "outputs": [],
   "source": [
    "class AnaliseMemoria(BaseModel):\n",
    "    \"\"\"Resultado da análise de uma mensagem para conteúdo digno de memória.\"\"\"\n",
    "    is_importante: bool = Field(\n",
    "        ..., \n",
    "        description=\"Se a mensagem é importante o suficiente para ser armazenada como uma memória.\")\n",
    "    \n",
    "    memoria_formatada: Optional[str] = Field(\n",
    "        ..., \n",
    "        description=\"A memória formatada para ser armazenada.\")\n"
   ]
  },
  {
   "cell_type": "code",
   "execution_count": 12,
   "metadata": {},
   "outputs": [],
   "source": [
    "llm = ChatGroq(\n",
    "    model=settings.SMALL_TEXT_MODEL_NAME,\n",
    "    api_key=settings.GROQ_API_KEY,\n",
    "    temperature=0.1,\n",
    "    max_retries=2,\n",
    ").with_structured_output(AnaliseMemoria)"
   ]
  },
  {
   "cell_type": "code",
   "execution_count": 15,
   "metadata": {},
   "outputs": [
    {
     "name": "stdout",
     "output_type": "stream",
     "text": [
      "True\n",
      "O nome do usuário é José da Couves\n"
     ]
    }
   ],
   "source": [
    "mensagem = \"Olá, Brian, boa tarde, meu chamo José da Couves.\"\n",
    "prompt = PROMPT_ANALISE_MEMORIA.format(message=mensagem)\n",
    "analise_memoria = await llm.ainvoke(prompt)\n",
    "\n",
    "print(analise_memoria.is_importante)\n",
    "print(analise_memoria.memoria_formatada)"
   ]
  },
  {
   "cell_type": "code",
   "execution_count": 16,
   "metadata": {},
   "outputs": [
    {
     "name": "stdout",
     "output_type": "stream",
     "text": [
      "True\n",
      "Não gostou muito do filme Star Wars\n"
     ]
    }
   ],
   "source": [
    "mensagem = \"Eu assisti o filme Star Wars, e não gostei muito.\"\n",
    "prompt = PROMPT_ANALISE_MEMORIA.format(message=mensagem)\n",
    "analise_memoria = await llm.ainvoke(prompt)\n",
    "\n",
    "print(analise_memoria.is_importante)\n",
    "print(analise_memoria.memoria_formatada)"
   ]
  },
  {
   "cell_type": "code",
   "execution_count": 17,
   "metadata": {},
   "outputs": [
    {
     "name": "stdout",
     "output_type": "stream",
     "text": [
      "False\n",
      "None\n"
     ]
    }
   ],
   "source": [
    "mensagem = \"Olá, Brian, será que chove hoje?\"\n",
    "prompt = PROMPT_ANALISE_MEMORIA.format(message=mensagem)\n",
    "analise_memoria = await llm.ainvoke(prompt)\n",
    "\n",
    "print(analise_memoria.is_importante)\n",
    "print(analise_memoria.memoria_formatada)"
   ]
  },
  {
   "cell_type": "code",
   "execution_count": 2,
   "metadata": {},
   "outputs": [
    {
     "name": "stderr",
     "output_type": "stream",
     "text": [
      "/root/projetos/instituto-langchain/.venv/lib/python3.11/site-packages/tqdm/auto.py:21: TqdmWarning: IProgress not found. Please update jupyter and ipywidgets. See https://ipywidgets.readthedocs.io/en/stable/user_install.html\n",
      "  from .autonotebook import tqdm as notebook_tqdm\n"
     ]
    }
   ],
   "source": [
    "from instituto_langchain.brian.modulos.memoria.long_term.vector_store import get_vector_store\n",
    "from datetime import datetime\n",
    "vector_store = get_vector_store()"
   ]
  },
  {
   "cell_type": "code",
   "execution_count": 6,
   "metadata": {},
   "outputs": [],
   "source": [
    "texto = \"O nome do usuário é José da Couves\"\n",
    "vector_store.armazenar_memoria(\n",
    "    texto=texto, \n",
    "    metadata={\n",
    "        \"id\": abs(hash(texto)),\n",
    "        \"timestamp\": datetime.now().timestamp(),\n",
    "    })\n"
   ]
  }
 ],
 "metadata": {
  "kernelspec": {
   "display_name": ".venv",
   "language": "python",
   "name": "python3"
  },
  "language_info": {
   "codemirror_mode": {
    "name": "ipython",
    "version": 3
   },
   "file_extension": ".py",
   "mimetype": "text/x-python",
   "name": "python",
   "nbconvert_exporter": "python",
   "pygments_lexer": "ipython3",
   "version": "3.11.4"
  }
 },
 "nbformat": 4,
 "nbformat_minor": 2
}
