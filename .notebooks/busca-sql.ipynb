{
 "cells": [
  {
   "cell_type": "markdown",
   "metadata": {},
   "source": [
    "# APRENDENDO SOBRE TTQ - TEXT TO QUERY  \n",
    "\n",
    "Frameworks de agentes são fascinantes! Eles permitem a execução de uma série de tarefas que antes eram extremamente complicadas - ou até mesmo impossíveis.  \n",
    "Trabalho criando consultas em bancos de dados desde 2018 e, quando os LLMs foram lançados, logo me perguntei:  \n",
    "\n",
    "> Será que é possível pedir para uma LLM gerar uma consulta SQL e executá-la? 🤔  \n",
    "\n",
    "Bem, é exatamente isso que vou testar neste notebook.  \n",
    "\n",
    "## **Motivação**  \n",
    "\n",
    "Uma das minhas principais atividades é digitalizar e automatizar processos de negócio. Dentro desse contexto, estabeleci um desafio:  \n",
    "\n",
    "> Como criar um sistema que interprete uma solicitação em linguagem natural e gere uma consulta SQL sobre um processo?  \n",
    "\n",
    "Acredito que esse objetivo é importante, pois, criar um sistema que transforma perguntas em **consultas SQL válidas** pode ser extremamente útil, uma vez que permitem:  \n",
    "\n",
    "✅ **Melhorar a usabilidade** de sistemas, permitindo interações mais naturais com bases de dados. "
   ]
  },
  {
   "cell_type": "markdown",
   "metadata": {},
   "source": [
    "## Importando bibliotecas"
   ]
  },
  {
   "cell_type": "code",
   "execution_count": 2,
   "metadata": {},
   "outputs": [],
   "source": [
    "from typing import List, Any, Dict\n",
    "import re\n",
    "import os\n",
    "import sqlite3\n",
    "import logging\n",
    "import time\n",
    "import json\n",
    "from datetime import datetime\n",
    "from langchain_core.prompts import ChatPromptTemplate\n",
    "from langchain_core.output_parsers import JsonOutputParser\n",
    "from langchain_groq import ChatGroq\n",
    "from dotenv import load_dotenv"
   ]
  },
  {
   "cell_type": "markdown",
   "metadata": {},
   "source": [
    "## Carregando Variáveis de Ambiente"
   ]
  },
  {
   "cell_type": "code",
   "execution_count": 3,
   "metadata": {},
   "outputs": [],
   "source": [
    "load_dotenv()\n",
    "\n",
    "DB_PATH = \"../.db/SQL_AGENT.db\""
   ]
  },
  {
   "cell_type": "markdown",
   "metadata": {},
   "source": [
    "## Criando logger"
   ]
  },
  {
   "cell_type": "code",
   "execution_count": 4,
   "metadata": {},
   "outputs": [],
   "source": [
    "logging.basicConfig(   \n",
    "    format='%(asctime)s - %(levelname)s - %(message)s',\n",
    "    handlers=[        \n",
    "        logging.StreamHandler()\n",
    "    ]\n",
    ")\n",
    "\n",
    "LOGGER = logging.getLogger(__name__)\n",
    "LOGGER.setLevel(logging.DEBUG)"
   ]
  },
  {
   "cell_type": "markdown",
   "metadata": {},
   "source": [
    "## Criando o banco de dados  \n",
    "\n",
    "Antes de qualquer coisa, precisamos de um banco com uma tabela e algumas informações para pesquisar.  \n",
    "\n",
    "Imagine uma empresa que gerencia processos como **Recrutamento**, **Seleção**, **Avaliação de Desempenho** e **Solicitação de Férias**, todos mapeados e digitalizados dentro da plataforma Lecom.  \n",
    "\n",
    "Depois, foi criado um processo que extrai informações importantes sobre esses fluxos e as armazena na tabela `processos_andamento`. Essa será a base de dados utilizada pelo nosso sistema de agentes.  \n",
    "\n",
    "Vale destacar que tudo isso foi criado de forma genérica, com a ajuda do ChatGPT. 🤖"
   ]
  },
  {
   "cell_type": "code",
   "execution_count": 6,
   "metadata": {},
   "outputs": [
    {
     "name": "stderr",
     "output_type": "stream",
     "text": [
      "2025-03-24 12:04:44,688 - INFO - Iniciando configuração do banco de dados em ../.db/SQL_AGENT.db\n"
     ]
    },
    {
     "name": "stderr",
     "output_type": "stream",
     "text": [
      "2025-03-24 12:04:44,701 - INFO - Conexão com o banco de dados estabelecida com sucesso\n",
      "2025-03-24 12:04:44,761 - INFO - Criando tabela 'processos_andamento'\n",
      "2025-03-24 12:04:44,796 - INFO - Inserindo 7 registros na tabela\n",
      "2025-03-24 12:04:44,806 - INFO - Total de registros na tabela: 7\n",
      "2025-03-24 12:04:44,869 - INFO - Banco de dados SQLite configurado com sucesso em ../.db/SQL_AGENT.db\n"
     ]
    }
   ],
   "source": [
    "LOGGER.info(f\"Iniciando configuração do banco de dados em {DB_PATH}\")\n",
    "\n",
    "os.makedirs(os.path.dirname(DB_PATH), exist_ok=True)\n",
    "\n",
    "try:\n",
    "    conn = sqlite3.connect(DB_PATH)\n",
    "    cursor = conn.cursor()\n",
    "    LOGGER.info(\"Conexão com o banco de dados estabelecida com sucesso\")\n",
    "   \n",
    "    cursor.execute(\"SELECT name FROM sqlite_master WHERE type='table' AND name='processos_andamento'\")\n",
    "    if cursor.fetchone():       \n",
    "        cursor.execute(\"DROP TABLE processos_andamento\")\n",
    "   \n",
    "    LOGGER.info(\"Criando tabela 'processos_andamento'\")\n",
    "    cursor.execute(\"\"\"\n",
    "    CREATE TABLE processos_andamento (\n",
    "        ID_Processo_Andamento INTEGER PRIMARY KEY AUTOINCREMENT,\n",
    "        Codigo_Processo INTEGER NOT NULL,\n",
    "        Codigo_Atividade INTEGER NOT NULL,\n",
    "        Nome_Processo TEXT NOT NULL,\n",
    "        Nome_Atividade TEXT NOT NULL,\n",
    "        Nome_Cliente TEXT NOT NULL,\n",
    "        Telefone_Cliente TEXT NOT NULL,\n",
    "        Descricao_Processo TEXT NOT NULL,\n",
    "        Data_Atividade DATE NOT NULL\n",
    "    );\n",
    "    \"\"\")\n",
    "   \n",
    "    dados_iniciais = [\n",
    "        (1, 101, 'Recrutamento', 'Receber currículo', 'João Silva', '11987654321', 'Recebeu currículo e iniciou análise.', '2024-03-01'),\n",
    "        (1, 102, 'Recrutamento', 'Entrevista inicial', 'João Silva', '11987654321', 'Entrevista marcada para avaliação inicial.', '2024-03-02'),\n",
    "        (2, 201, 'Seleção', 'Teste técnico', 'Maria Oliveira', '11976543210', 'Teste técnico agendado.', '2024-03-03'),\n",
    "        (2, 202, 'Seleção', 'Entrevista final', 'Carlos Pereira', '11965432109', 'Entrevista final marcada.', '2024-03-04'),\n",
    "        (3, 301, 'Avaliação de Desempenho', 'Revisão do desempenho', 'Ana Souza', '11954321098', 'Coleta de feedbacks em andamento.', '2024-03-05'),\n",
    "        (3, 302, 'Avaliação de Desempenho', 'Reunião de feedback', 'Carlos Pereira', '11965432109', 'Reunião agendada com gerente.', '2024-03-06'),\n",
    "        (4, 401, 'Solicitação de Férias', 'Pedido formalizado', 'João Silva', '11987654321', 'Pedido de férias registrado.', '2024-03-07')\n",
    "    ]\n",
    "   \n",
    "    LOGGER.info(f\"Inserindo {len(dados_iniciais)} registros na tabela\")\n",
    "    cursor.executemany(\"\"\"\n",
    "        INSERT INTO processos_andamento\n",
    "        (Codigo_Processo, Codigo_Atividade, Nome_Processo, Nome_Atividade, Nome_Cliente, Telefone_Cliente, Descricao_Processo, Data_Atividade)\n",
    "        VALUES (?, ?, ?, ?, ?, ?, ?, ?)\n",
    "    \"\"\", dados_iniciais)\n",
    "    \n",
    "    # Verificar número de registros inseridos\n",
    "    cursor.execute(\"SELECT COUNT(*) FROM processos_andamento\")\n",
    "    count = cursor.fetchone()[0]\n",
    "    LOGGER.info(f\"Total de registros na tabela: {count}\")\n",
    "    \n",
    "    # Salvar e fechar a conexão\n",
    "    conn.commit()\n",
    "    conn.close()\n",
    "    \n",
    "    LOGGER.info(f\"Banco de dados SQLite configurado com sucesso em {DB_PATH}\")\n",
    "    \n",
    "except sqlite3.Error as e:\n",
    "    LOGGER.error(f\"Erro SQLite: {e}\")\n",
    "except Exception as e:\n",
    "    LOGGER.error(f\"Erro inesperado: {e}\")"
   ]
  },
  {
   "cell_type": "markdown",
   "metadata": {},
   "source": [
    "### Criando o gerenciador de banco de dados  \n",
    "\n",
    "Ótimo! com a base de dados pronta, é hora de criar a classe responsável por manipulá-la.  \n",
    "\n",
    "Essa classe é relativamente simples, mas essencial para projeto. Ela funciona como um intermediário entre os agentes e o banco de dados SQLite, permitindo que eles o manipulem.  \n",
    "\n",
    "Os principais métodos são:  \n",
    "\n",
    "- **`get_schema() -> str`**: Retorna o esquema das tabelas no banco, o que será útil para os agentes entenderem a estrutura dos dados.  \n",
    "- **`execute_query(query: str) -> List[Any]`**: Executa uma query SQL e retorna os resultados. Se for uma consulta (`SELECT`), ela retorna os dados formatados como dicionários para facilitar a manipulação.  \n",
    "- **`close()`**: Fecha a conexão com o banco de dados, garantindo que os recursos sejam liberados corretamente.  "
   ]
  },
  {
   "cell_type": "code",
   "execution_count": 9,
   "metadata": {},
   "outputs": [],
   "source": [
    "class DatabaseManager:\n",
    "    def __init__(self):\n",
    "        \"\"\"Inicializa o gerenciador de banco de dados com SQLite.\"\"\"\n",
    "        self.db_path = DB_PATH\n",
    "        LOGGER.info(f\"Inicializando DatabaseManager com banco de dados em {self.db_path}\")\n",
    "        try:\n",
    "            self.connection = sqlite3.connect(self.db_path)\n",
    "            self.connection.row_factory = sqlite3.Row  # Permite acessar os resultados por nome de coluna\n",
    "            LOGGER.info(\"Conexão com o banco de dados estabelecida com sucesso\\n\")\n",
    "        except sqlite3.Error as e:\n",
    "            LOGGER.error(f\"Erro ao conectar ao banco de dados: {str(e)}\\n\")\n",
    "            raise Exception(f\"Falha na conexão com o banco de dados: {str(e)}\")\n",
    "\n",
    "    def get_schema(self) -> str:\n",
    "        \"\"\"Recupera o esquema do banco de dados SQLite.\"\"\"\n",
    "        LOGGER.info(\"Obtendo esquema do banco de dados\")\n",
    "        try:\n",
    "            cursor = self.connection.cursor()\n",
    "            cursor.execute(\"SELECT name, sql FROM sqlite_master WHERE type='table';\")\n",
    "            schema_info = cursor.fetchall()\n",
    "            \n",
    "            tables_count = len(schema_info)\n",
    "            LOGGER.debug(f\"Encontradas {tables_count} tabelas no banco de dados\")\n",
    "            \n",
    "            schema = \"\\n\".join(f\"Table: {row['name']}\\n{row['sql']}\" for row in schema_info if row['sql'])\n",
    "            LOGGER.debug(f\"Esquema obtido: {schema}\\n\")\n",
    "            return schema\n",
    "        except sqlite3.DatabaseError as e:\n",
    "            error_msg = f\"Erro ao obter o esquema do banco de dados: {str(e)}\\n\"\n",
    "            LOGGER.error(error_msg)\n",
    "            raise Exception(error_msg)\n",
    "\n",
    "    def execute_query(self, query: str) -> List[Dict[str, Any]]:\n",
    "        \"\"\"Executa uma query SQL no banco SQLite e retorna os resultados.\"\"\"\n",
    "       \n",
    "        LOGGER.info(f\"Executando query: {query}\")\n",
    "        \n",
    "        try:\n",
    "            is_select = query.strip().lower().startswith(\"select\")\n",
    "            \n",
    "            if not is_select:\n",
    "                operacao = query.strip().split(\"/\")[0]\n",
    "                LOGGER.warning(f\"Tentativa de execução de operação SQL '{operacao}' não permitida\")\n",
    "                raise Exception(f\"Operação SQL '{operacao}' não permitida\")\n",
    "            \n",
    "            cursor = self.connection.cursor()\n",
    "            start_time = datetime.now()\n",
    "            cursor.execute(query)\n",
    "            \n",
    "            results = [dict(row) for row in cursor.fetchall()]           \n",
    "            \n",
    "            execution_time = (datetime.now() - start_time).total_seconds()\n",
    "            LOGGER.info(f\"Tempo de execução: {execution_time:.3f} segundos\\n\")\n",
    "\n",
    "            return results\n",
    "        except sqlite3.DatabaseError as e:\n",
    "            error_msg = f\"Erro ao executar a consulta: {str(e)}\\n\"\n",
    "            LOGGER.error(error_msg)            \n",
    "            raise Exception(error_msg)\n",
    "\n",
    "    def close(self):\n",
    "        \"\"\"Fecha a conexão com o banco de dados.\"\"\"\n",
    "        LOGGER.info(\"Fechando conexão com o banco de dados\")\n",
    "        try:\n",
    "            self.connection.close()\n",
    "            LOGGER.info(\"Conexão com o banco de dados fechada com sucesso\\n\")\n",
    "        except sqlite3.Error as e:\n",
    "            LOGGER.error(f\"Erro ao fechar a conexão com o banco de dados: {str(e)}\\n\")"
   ]
  },
  {
   "cell_type": "code",
   "execution_count": null,
   "metadata": {},
   "outputs": [
    {
     "name": "stderr",
     "output_type": "stream",
     "text": [
      "2025-03-24 12:34:05,531 - INFO - Inicializando DatabaseManager com banco de dados em ../.db/SQL_AGENT.db\n",
      "2025-03-24 12:34:05,533 - INFO - Conexão com o banco de dados estabelecida com sucesso\n",
      "\n",
      "2025-03-24 12:34:05,535 - INFO - Obtendo esquema do banco de dados\n",
      "2025-03-24 12:34:05,537 - DEBUG - Encontradas 2 tabelas no banco de dados\n",
      "2025-03-24 12:34:05,538 - DEBUG - Esquema obtido: Table: sqlite_sequence\n",
      "CREATE TABLE sqlite_sequence(name,seq)\n",
      "Table: processos_andamento\n",
      "CREATE TABLE processos_andamento (\n",
      "        ID_Processo_Andamento INTEGER PRIMARY KEY AUTOINCREMENT,\n",
      "        Codigo_Processo INTEGER NOT NULL,\n",
      "        Codigo_Atividade INTEGER NOT NULL,\n",
      "        Nome_Processo TEXT NOT NULL,\n",
      "        Nome_Atividade TEXT NOT NULL,\n",
      "        Nome_Cliente TEXT NOT NULL,\n",
      "        Telefone_Cliente TEXT NOT NULL,\n",
      "        Descricao_Processo TEXT NOT NULL,\n",
      "        Data_Atividade DATE NOT NULL\n",
      "    )\n",
      "\n",
      "2025-03-24 12:34:05,538 - INFO - Table: sqlite_sequence\n",
      "CREATE TABLE sqlite_sequence(name,seq)\n",
      "Table: processos_andamento\n",
      "CREATE TABLE processos_andamento (\n",
      "        ID_Processo_Andamento INTEGER PRIMARY KEY AUTOINCREMENT,\n",
      "        Codigo_Processo INTEGER NOT NULL,\n",
      "        Codigo_Atividade INTEGER NOT NULL,\n",
      "        Nome_Processo TEXT NOT NULL,\n",
      "        Nome_Atividade TEXT NOT NULL,\n",
      "        Nome_Cliente TEXT NOT NULL,\n",
      "        Telefone_Cliente TEXT NOT NULL,\n",
      "        Descricao_Processo TEXT NOT NULL,\n",
      "        Data_Atividade DATE NOT NULL\n",
      "    )\n",
      "2025-03-24 12:34:05,539 - INFO - Executando query: SELECT * FROM processos_andamento\n",
      "2025-03-24 12:34:05,541 - INFO - Tempo de execução: 0.001 segundos\n",
      "\n",
      "2025-03-24 12:34:05,542 - INFO - {'ID_Processo_Andamento': 1, 'Codigo_Processo': 1, 'Codigo_Atividade': 101, 'Nome_Processo': 'Recrutamento', 'Nome_Atividade': 'Receber currículo', 'Nome_Cliente': 'João Silva', 'Telefone_Cliente': '11987654321', 'Descricao_Processo': 'Recebeu currículo e iniciou análise.', 'Data_Atividade': '2024-03-01'}\n"
     ]
    }
   ],
   "source": [
    "db_manager = DatabaseManager()\n",
    "\n",
    "LOGGER.info(db_manager.get_schema())\n",
    "LOGGER.info(db_manager.execute_query(\"SELECT * FROM processos_andamento\")[0])"
   ]
  },
  {
   "cell_type": "markdown",
   "metadata": {},
   "source": [
    "### Criando o gerenciador de LLM  \n",
    "\n",
    "O que dá inteligência aos agentes é o LLM (Large Language Model), então nada mais justo do que criar um gerenciador específico para ele.  \n",
    "\n",
    "Neste exemplo, será utilizado o modelo **`deepseek-r1-distill-llama-70b`** via **GROQ**, pois essa opção possui uma camada *free* bem generosa. Além disso, esse modelo tem a capacidade de **refletir antes de gerar uma resposta**, o que pode influenciar positivamente nos resultados. Bem, veremos se isso realmente faz diferença! 🤔  \n",
    "\n",
    "O **LLMManager**, será responsável por interagir com o modelo e gerar respostas com base nos prompts fornecidos. Ele classe encapsula a comunicação com a API do modelo de LLM, permitindo uma interação simples e organizada.  \n",
    "\n",
    "🔹 **`__init__()`**: Inicializa a conexão com a API da GROQ, configurando o modelo escolhido e os parâmetros principais:  \n",
    "- `temperature=0.1`: Mantém as respostas mais determinísticas, reduzindo a criatividade excessiva.  \n",
    "- `max_retries=2`: Define um limite de tentativas em caso de falha na requisição.  \n",
    "\n",
    "🔹 **`invoke(prompt, **kwargs) -> str`**:  \n",
    "- Recebe um `ChatPromptTemplate`, que contém o formato da mensagem.  \n",
    "- Formata os dados necessários e envia a requisição para o LLM.  \n",
    "- Retorna a resposta gerada pelo modelo. "
   ]
  },
  {
   "cell_type": "code",
   "execution_count": 21,
   "metadata": {},
   "outputs": [],
   "source": [
    "class LLMManager:\n",
    "    def __init__(self):\n",
    "        \"\"\"Inicializa o gerenciador de LLM com o modelo Groq.\"\"\"\n",
    "        LOGGER.info(\"Inicializando LLMManager com o modelo deepseek-r1-distill-llama-70b\")\n",
    "        \n",
    "        api_key = os.getenv(\"GROQ_API_KEY\")\n",
    "        if not api_key:\n",
    "            LOGGER.error(\"GROQ_API_KEY não encontrada nas variáveis de ambiente\\n\")\n",
    "            raise ValueError(\"GROQ_API_KEY não configurada. Configure a variável de ambiente GROQ_API_KEY.\")\n",
    "        \n",
    "        try:\n",
    "            self.llm = ChatGroq(\n",
    "                model=\"deepseek-r1-distill-llama-70b\",\n",
    "                api_key=api_key,\n",
    "                temperature=0.1,\n",
    "                max_retries=2,\n",
    "            )\n",
    "            LOGGER.info(\"LLM inicializado com sucesso (modelo: deepseek-r1-distill-llama-70b, temperatura: 0.1)\\n\")\n",
    "        except Exception as e:\n",
    "            LOGGER.error(f\"Erro ao inicializar o LLM: {str(e)}\\n\")\n",
    "            raise Exception(f\"Falha na inicialização do LLM: {str(e)}\")\n",
    "\n",
    "    def invoke(self, prompt: ChatPromptTemplate, **kwargs) -> str:\n",
    "        \"\"\"\n",
    "        Invoca o LLM com o prompt fornecido e parâmetros adicionais.\n",
    "        \n",
    "        Args:\n",
    "            prompt: O template de prompt do chat\n",
    "            **kwargs: Variáveis para formatação do prompt\n",
    "            \n",
    "        Returns:\n",
    "            str: A resposta do modelo\n",
    "        \"\"\"       \n",
    "        \n",
    "        try:           \n",
    "            start_format_time = time.time()\n",
    "            messages = prompt.format_messages(**kwargs)\n",
    "            format_time = time.time() - start_format_time\n",
    "            \n",
    "            LOGGER.info(\"Enviando requisição ao modelo...\")\n",
    "            start_invoke_time = time.time()\n",
    "            response = self.llm.invoke(messages)\n",
    "            invoke_time = time.time() - start_invoke_time\n",
    "           \n",
    "            response_content = response.content\n",
    "            LOGGER.debug(f\"Resposta recebida em {invoke_time:.3f}s ({len(response_content)} caracteres)\")\n",
    "            LOGGER.info(f\"Resposta do LLM: {response_content}\")\n",
    "            \n",
    "            # Log de métricas\n",
    "            total_time = format_time + invoke_time\n",
    "            LOGGER.debug(f\"Invocação completa. Tempo total: {total_time:.3f}s\")\n",
    "            \n",
    "            return response_content\n",
    "            \n",
    "        except Exception as e:\n",
    "            LOGGER.error(f\"Erro ao invocar o LLM: {str(e)}\")\n",
    "            raise Exception(f\"Falha na invocação do LLM: {str(e)}\")"
   ]
  },
  {
   "cell_type": "code",
   "execution_count": 24,
   "metadata": {},
   "outputs": [
    {
     "name": "stderr",
     "output_type": "stream",
     "text": [
      "2025-03-24 14:20:28,113 - INFO - Inicializando LLMManager com o modelo deepseek-r1-distill-llama-70b\n",
      "2025-03-24 14:20:28,206 - INFO - LLM inicializado com sucesso (modelo: deepseek-r1-distill-llama-70b, temperatura: 0.1)\n",
      "\n",
      "2025-03-24 14:20:28,208 - INFO - Enviando requisição ao modelo...\n",
      "2025-03-24 14:20:30,114 - INFO - Resposta do LLM: <think>\n",
      "Okay, so Rodrigo just introduced himself and asked my name. I need to respond in a friendly and happy way. Since I'm supposed to always be cheerful, I should keep the tone upbeat. I should thank him for the greeting and share my name, which is Brian. Maybe add an emoji to make it more lively. Let me put that together.\n",
      "</think>\n",
      "\n",
      "Olá Rodrigo! Muito prazer em te conhecer! Eu sou o Brian, e estou aqui para ajudar no que precisar! 😊\n"
     ]
    },
    {
     "data": {
      "text/plain": [
       "\"<think>\\nOkay, so Rodrigo just introduced himself and asked my name. I need to respond in a friendly and happy way. Since I'm supposed to always be cheerful, I should keep the tone upbeat. I should thank him for the greeting and share my name, which is Brian. Maybe add an emoji to make it more lively. Let me put that together.\\n</think>\\n\\nOlá Rodrigo! Muito prazer em te conhecer! Eu sou o Brian, e estou aqui para ajudar no que precisar! 😊\""
      ]
     },
     "execution_count": 24,
     "metadata": {},
     "output_type": "execute_result"
    }
   ],
   "source": [
    "llm_manager = LLMManager()\n",
    "\n",
    "template = ChatPromptTemplate([\n",
    "    (\"system\", \"Seu nome é Brian, você está sempre feliz e alegre, sempre respondendo em PT-BR.\"),\n",
    "    (\"human\", \"Olá, meu nome é Rodrigo, e o seu?\"),   \n",
    "])\n",
    "\n",
    "llm_manager.invoke(template)"
   ]
  },
  {
   "cell_type": "markdown",
   "metadata": {},
   "source": [
    "### Analisando a Pergunta do Usuário  \n",
    "\n",
    "Quando lidamos com um problema envolvendo **banco de dados**, a primeira tarefa é identificar **quais tabelas e colunas** fazem parte da solução. No nosso caso, temos apenas **uma tabela**, pois toda a lógica para populá-la será resolvida sem a necessidade de um sistema de agentes para isso.  \n",
    "\n",
    "Com essa base estabelecida, podemos testar se o **Agente** que criamos, utilizando o **LLM**, consegue **abstrair a lógica necessária** para interpretar uma pergunta e retornar as colunas relevantes.  \n",
    "\n",
    "### 🚀 Técnicas Essenciais de Prompt Engineering  \n",
    "\n",
    "Ao usar **técnicas de engenharia de prompt (Prompt Engineering)**, conseguimos melhorar a capacidade do LLM de entender e gerar consultas corretas.  \n",
    "\n",
    "Para criar um agente eficiente, utilizamos algumas estratégias fundamentais:  \n",
    "\n",
    "🔹 **Definição de Persona**: Faz com que o modelo assuma o papel de um **analista de dados**, influenciando seu estilo de resposta.  \n",
    "🔹 **Instrução Clara e Específica**: Detalhamos exatamente o que esperamos do modelo, reduzindo ambiguidades.  \n",
    "🔹 **Formato de Saída Especificado**: Garantimos que o modelo retorne um **JSON estruturado**, facilitando o processamento da resposta.  \n",
    "🔹 **Restrições e Regras Detalhadas**: Definimos limites para que o modelo foque nas colunas **relevantes**, ignorando campos irrelevantes.  \n",
    "🔹 **Injeção de Contexto**: Passamos o **esquema do banco de dados** para que o modelo compreenda melhor a estrutura disponível.  \n",
    "🔹 **Uso de Delimitadores**: Organizamos a entrada do modelo, separando **esquema do banco** e **pergunta do usuário**, melhorando a compreensão.\n",
    "\n",
    "💡 Essa abordagem permite que o modelo compreenda a **estrutura do banco** e selecione apenas as colunas relevantes com mais eficiência! 🚀"
   ]
  },
  {
   "cell_type": "code",
   "execution_count": 22,
   "metadata": {},
   "outputs": [],
   "source": [
    "def analisar_pergunta(pergunta: str) -> Dict[str, Any]:\n",
    "    \"\"\"\n",
    "    Analisa a pergunta do usuário e identifica as tabelas e colunas relevantes.\n",
    "    \n",
    "    Args:\n",
    "        pergunta (str): Pergunta do usuário a ser analisada\n",
    "        \n",
    "    Returns:\n",
    "        Dict[str, Any]: Dicionário contendo a análise da pergunta\n",
    "    \"\"\"    \n",
    "\n",
    "    LOGGER.info(f\"Iniciando análise da pergunta: '{pergunta}'\")\n",
    "    \n",
    "    try:        \n",
    "        start_schema_time = time.time()\n",
    "        esquema = db_manager.get_schema()\n",
    "        \n",
    "        LOGGER.debug(f\"Preparando prompt para o LLM\")\n",
    "        prompt = ChatPromptTemplate.from_messages([\n",
    "            (\"system\", '''Você é um analista de dados que pode ajudar a resumir tabelas SQL e interpretar perguntas de usuários sobre um banco de dados.  \n",
    "Dada a pergunta e o esquema do banco de dados, identifique as tabelas e colunas relevantes.  \n",
    "Se a pergunta não for relevante para o banco de dados ou se não houver informações suficientes para respondê-la, defina \"is_relevante\" como false.\n",
    "Sua resposta deve estar no seguinte formato JSON:\n",
    "{{\n",
    "    \"is_relevante\": boolean,\n",
    "    \"tabelas_relevantes\": [\n",
    "        {{\n",
    "            \"nome_tabela\": string,\n",
    "            \"colunas\": [string],\n",
    "            \"colunas_substantivo\": [string]\n",
    "        }}\n",
    "    ]\n",
    "}}\n",
    "O campo \"colunas_substantivo\" deve conter apenas as colunas que são relevantes para a pergunta e que contêm substantivos ou nomes.  \n",
    "Por exemplo, a coluna \"Nome do Artista\" contém substantivos relevantes para a pergunta \"Quais são os artistas mais vendidos?\",  \n",
    "mas a coluna \"ID do Artista\" não é relevante, pois não contém um substantivo. Não inclua colunas que contenham números.\n",
    "'''),\n",
    "            (\"human\", \"===Esquema do banco de dados:\\n{esquema}\\n\\n===Pergunta do usuário:\\n{pergunta}\\n\\nIdentifique as tabelas e colunas relevantes:\")\n",
    "        ])        \n",
    "       \n",
    "        analisador_json = JsonOutputParser()\n",
    "         \n",
    "        resposta = llm_manager.invoke(prompt, esquema=esquema, pergunta=pergunta)          \n",
    "\n",
    "        LOGGER.debug(f\"Analisando resposta JSON\")      \n",
    "        try:\n",
    "            resposta_analisada = analisador_json.parse(resposta) \n",
    "            \n",
    "            is_relevante = resposta_analisada.get(\"is_relevante\", False)\n",
    "            num_tabelas = len(resposta_analisada.get(\"tabelas_relevantes\", []))\n",
    "            LOGGER.info(f\"Análise concluída. Relevante: {is_relevante}, Tabelas identificadas: {num_tabelas}\")\n",
    "            \n",
    "            if num_tabelas > 0:\n",
    "                tabelas_nomes = [tabela.get(\"nome_tabela\") for tabela in resposta_analisada.get(\"tabelas_relevantes\", [])]\n",
    "                LOGGER.debug(f\"Tabelas relevantes: {', '.join(tabelas_nomes)}\")\n",
    "            \n",
    "        except Exception as e:\n",
    "            LOGGER.error(f\"Erro ao analisar JSON da resposta: {str(e)}\")\n",
    "            LOGGER.error(f\"Resposta que causou o erro: {resposta}\\n\")\n",
    "            # Se houver erro no parsing, retornamos uma resposta de fallback\n",
    "            resposta_analisada = {\"is_relevante\": False, \"tabelas_relevantes\": []}\n",
    "        \n",
    "        LOGGER.info(f\"Resultado Final da Análise: {str(resposta_analisada)}\")\n",
    "        \n",
    "        # Tempo total da operação\n",
    "        total_time = time.time() - start_schema_time\n",
    "        LOGGER.info(f\"Análise completa em {total_time:.3f}s\")\n",
    "        \n",
    "        # Retornar o resultado\n",
    "        return {\"pergunta_analisada\": resposta_analisada}\n",
    "        \n",
    "    except Exception as e:\n",
    "        LOGGER.error(f\"Erro durante análise da pergunta: {str(e)}\\n\")\n",
    "        \n",
    "        return {\"pergunta_analisada\": {\"is_relevante\": False, \"tabelas_relevantes\": []}}"
   ]
  },
  {
   "cell_type": "code",
   "execution_count": 25,
   "metadata": {},
   "outputs": [
    {
     "name": "stderr",
     "output_type": "stream",
     "text": [
      "2025-03-24 14:20:56,205 - INFO - Iniciando análise da pergunta: 'Do que se trada o processo da Ana Souza?'\n",
      "2025-03-24 14:20:56,206 - INFO - Obtendo esquema do banco de dados\n",
      "2025-03-24 14:20:56,209 - INFO - Enviando requisição ao modelo...\n",
      "2025-03-24 14:20:58,734 - INFO - Resposta do LLM: <think>\n",
      "Ok, vamos analisar a pergunta do usuário: \"Do que se trada o processo da Ana Souza?\" Primeiro, preciso entender o que o usuário está procurando. Parece que ele quer saber qual é o processo relacionado a uma pessoa específica, Ana Souza.\n",
      "\n",
      "Agora, olhando para o esquema do banco de dados, temos duas tabelas: sqlite_sequence e processos_andamento. A tabela sqlite_sequence parece ser do sistema e não contém informações relevantes para a pergunta, então podemos ignorá-la.\n",
      "\n",
      "Focando na tabela processos_andamento, ela tem várias colunas. As colunas relevantes para a pergunta são aquelas que contêm substantivos ou nomes relacionados ao processo e ao cliente. Vejo que há Nome_Processo, Nome_Atividade, Nome_Cliente, Descricao_Processo. Essas colunas provavelmente têm as informações necessárias para descrever o que o processo trata.\n",
      "\n",
      "A coluna Nome_Cliente é importante porque ela menciona o nome do cliente, que no caso é Ana Souza. As outras colunas como Codigo_Processo e Codigo_Atividade são identificadores numéricos e não contêm substantivos relevantes, então não as incluo.\n",
      "\n",
      "Portanto, as colunas relevantes são Nome_Processo, Nome_Atividade, Nome_Cliente e Descricao_Processo. A tabela processos_andamento é a única necessária aqui.\n",
      "</think>\n",
      "\n",
      "```json\n",
      "{\n",
      "    \"is_relevante\": true,\n",
      "    \"tabelas_relevantes\": [\n",
      "        {\n",
      "            \"nome_tabela\": \"processos_andamento\",\n",
      "            \"colunas\": [\n",
      "                \"Nome_Processo\",\n",
      "                \"Nome_Atividade\",\n",
      "                \"Nome_Cliente\",\n",
      "                \"Descricao_Processo\"\n",
      "            ],\n",
      "            \"colunas_substantivo\": [\n",
      "                \"Nome_Processo\",\n",
      "                \"Nome_Atividade\",\n",
      "                \"Nome_Cliente\",\n",
      "                \"Descricao_Processo\"\n",
      "            ]\n",
      "        }\n",
      "    ]\n",
      "}\n",
      "```\n",
      "2025-03-24 14:20:58,778 - INFO - Análise concluída. Relevante: True, Tabelas identificadas: 1\n",
      "2025-03-24 14:20:58,778 - INFO - Resultado Final da Análise: {'is_relevante': True, 'tabelas_relevantes': [{'nome_tabela': 'processos_andamento', 'colunas': ['Nome_Processo', 'Nome_Atividade', 'Nome_Cliente', 'Descricao_Processo'], 'colunas_substantivo': ['Nome_Processo', 'Nome_Atividade', 'Nome_Cliente', 'Descricao_Processo']}]}\n",
      "2025-03-24 14:20:58,778 - INFO - Análise completa em 2.572s\n"
     ]
    }
   ],
   "source": [
    "LOGGER.setLevel(logging.INFO)\n",
    "pergunta = \"Do que se trada o processo da Ana Souza?\"\n",
    "pergunta_analisada = analisar_pergunta(pergunta)['pergunta_analisada']"
   ]
  },
  {
   "cell_type": "markdown",
   "metadata": {},
   "source": [
    "### Encontrando substantivos únicos nas tabelas e colunas relevantes\n",
    "\n",
    "É sempre bom dar uma conferida no que um LLM respondeu, essa parte do processo irá higienizar o retorno, garantindo que as colunas apareçam somente uma vez."
   ]
  },
  {
   "cell_type": "code",
   "execution_count": 39,
   "metadata": {},
   "outputs": [],
   "source": [
    "def obter_substantivos_unicos(pergunta_analisada: dict) -> dict:\n",
    "    \"\"\"Encontra substantivos únicos nas tabelas e colunas relevantes.\"\"\"    \n",
    "    \n",
    "    if not pergunta_analisada['is_relevant']:\n",
    "        return {\"substantivos_unicos\": []}\n",
    "\n",
    "    substantivos_unicos = set()\n",
    "    for info_tabela in pergunta_analisada['relevant_tables']:\n",
    "        nome_tabela = info_tabela['table_name']\n",
    "        colunas_substantivos = info_tabela['noun_columns']\n",
    "        \n",
    "        if colunas_substantivos:\n",
    "            nomes_colunas = ', '.join(f\"`{col}`\" for col in colunas_substantivos)\n",
    "            consulta = f\"SELECT DISTINCT {nomes_colunas} FROM `{nome_tabela}`\"           \n",
    "            resultados = db_manager.execute_query(consulta)           \n",
    "            for linha in resultados:\n",
    "                substantivos_unicos.update(str(valor) for valor in linha if valor)\n",
    "\n",
    "    return {\"substantivos_unicos\": list(substantivos_unicos)}\n"
   ]
  },
  {
   "cell_type": "code",
   "execution_count": 40,
   "metadata": {},
   "outputs": [
    {
     "name": "stdout",
     "output_type": "stream",
     "text": [
      "['NM_Cliente', 'NM_Processo', 'DS_Processo']\n"
     ]
    }
   ],
   "source": [
    "substantivos_unicos = obter_substantivos_unicos(pergunta_analisada)['substantivos_unicos']\n",
    "print(substantivos_unicos)"
   ]
  },
  {
   "cell_type": "markdown",
   "metadata": {},
   "source": [
    "### Gera uma consulta SQL com base na pergunta analisada e nos substantivos únicos\n",
    "\n",
    "Sabe quando o filme está no seu apse, é nesse ponto que estamos. Temos a pergunta do usuário, uma analise de colunas relevantes e as colunas higienizadas, ou seja, temos insumos o suficiente para criar uma Agente que irá gerar a consulta SQL, *maravilhindo*.\n",
    "\n",
    "Vamos aproveitar o espaço e falar sobre mais um tecnica de prompt utilizada:\n",
    "\n",
    "- **Few-shot Prompting (Exemplos)**: Esta técnica envolve fornecer ao modelo alguns exemplos de entradas e suas respectivas saídas desejadas antes da pergunta principal. Isso ajuda o modelo a entender o formato esperado da resposta e a aprender o padrão da tarefa, melhorando a qualidade da sua geração."
   ]
  },
  {
   "cell_type": "code",
   "execution_count": 41,
   "metadata": {},
   "outputs": [],
   "source": [
    "def gerar_sql(pergunta: str, pergunta_analisada: dict, substantivos_unicos: list) -> dict:\n",
    "    \"\"\"Gera uma consulta SQL com base na pergunta analisada e nos substantivos únicos.\"\"\"  \n",
    "\n",
    "    if not pergunta_analisada['is_relevant']:\n",
    "        return {\"sql_query\": \"NOT_RELEVANT\", \"is_relevant\": False}\n",
    "\n",
    "    esquema = db_manager.get_schema()\n",
    "\n",
    "    prompt = ChatPromptTemplate.from_messages([\n",
    "        (\"system\", '''\n",
    "Você é um assistente de IA que gera consultas SQL com base na pergunta do usuário, no esquema do banco de dados e nos substantivos únicos encontrados nas tabelas relevantes. Gere uma consulta SQL válida para responder à pergunta do usuário.\n",
    "\n",
    "Se não houver informações suficientes para escrever uma consulta SQL, responda com \"NOT_ENOUGH_INFO\".\n",
    "\n",
    "Aqui estão alguns exemplos:\n",
    "\n",
    "1. Qual é o produto mais vendido?\n",
    "Resposta: SELECT product_name, SUM(quantity) as total_quantity FROM sales WHERE product_name IS NOT NULL AND quantity IS NOT NULL AND product_name != \"\" AND quantity != \"\" AND product_name != \"N/A\" AND quantity != \"N/A\" GROUP BY product_name ORDER BY total_quantity DESC LIMIT 1\n",
    "\n",
    "2. Qual é a receita total para cada produto?\n",
    "Resposta: SELECT \\`product name\\`, SUM(quantity * price) as total_revenue FROM sales WHERE \\`product name\\` IS NOT NULL AND quantity IS NOT NULL AND price IS NOT NULL AND \\`product name\\` != \"\" AND quantity != \"\" AND price != \"\" AND \\`product name\\` != \"N/A\" AND quantity != \"N/A\" AND price != \"N/A\" GROUP BY \\`product name\\`  ORDER BY total_revenue DESC\n",
    "\n",
    "3. Qual é a participação de mercado de cada produto?\n",
    "Resposta: SELECT \\`product name\\`, SUM(quantity) * 100.0 / (SELECT SUM(quantity) FROM sales) as market_share FROM sales WHERE \\`product name\\` IS NOT NULL AND quantity IS NOT NULL AND \\`product name\\` != \"\" AND quantity != \"\" AND \\`product name\\` != \"N/A\" AND quantity != \"N/A\" GROUP BY \\`product name\\`  ORDER BY market_share DESC\n",
    "\n",
    "4. Plote a distribuição de renda ao longo do tempo.\n",
    "Resposta: SELECT income, COUNT(*) as count FROM users WHERE income IS NOT NULL AND income != \"\" AND income != \"N/A\" GROUP BY income\n",
    "\n",
    "OS RESULTADOS DEVEM ESTAR APENAS NO SEGUINTE FORMATO, ENTÃO CERTIFIQUE-SE DE INCLUIR APENAS DUAS OU TRÊS COLUNAS:\n",
    "[[x, y]]\n",
    "ou \n",
    "[[label, x, y]]\n",
    "\n",
    "Para perguntas como \"plote uma distribuição das tarifas pagas por homens e mulheres\", conte a frequência de cada tarifa e plote-a. O eixo x deve ser a tarifa e o eixo y deve ser a contagem de pessoas que pagaram essa tarifa.\n",
    "IGNORE TODAS AS LINHAS ONDE QUALQUER COLUNA SEJA NULL, \"N/A\" ou \"\".\n",
    "Apenas forneça a string da consulta SQL. Não a formate. Certifique-se de usar a grafia correta dos substantivos conforme fornecido na lista de substantivos únicos. Todos os nomes de tabelas e colunas devem estar entre crases.\n",
    "'''),\n",
    "        (\"human\", '''===Esquema do banco de dados:\n",
    "{schema}\n",
    "\n",
    "===Pergunta do usuário:\n",
    "{question}\n",
    "\n",
    "===Tabelas e colunas relevantes:\n",
    "{parsed_question}\n",
    "\n",
    "===Substantivos únicos nas tabelas relevantes:\n",
    "{unique_nouns}\n",
    "\n",
    "Gere a string da consulta SQL'''),\n",
    "    ])\n",
    "\n",
    "    resposta = llm_manager.invoke(\n",
    "        prompt, \n",
    "        schema=esquema, \n",
    "        question=pergunta, \n",
    "        parsed_question=pergunta_analisada, \n",
    "        unique_nouns=substantivos_unicos\n",
    "    )\n",
    "\n",
    "    if resposta.strip() == \"NOT_ENOUGH_INFO\":\n",
    "        return {\"consulta_sql\": \"NOT_RELEVANT\"}\n",
    "    else:\n",
    "        return {\"consulta_sql\": re.sub(r'<think>.*?</think>\\s*', '', resposta, flags=re.DOTALL)} \n"
   ]
  },
  {
   "cell_type": "code",
   "execution_count": 42,
   "metadata": {},
   "outputs": [
    {
     "name": "stdout",
     "output_type": "stream",
     "text": [
      "SELECT NM_Processo, DS_Processo FROM processos_andamento WHERE NM_Cliente = 'Ana Souza' AND NM_Processo IS NOT NULL AND DS_Processo IS NOT NULL AND NM_Processo != \"\" AND DS_Processo != \"\" AND NM_Processo != \"N/A\" AND DS_Processo != \"N/A\"\n"
     ]
    }
   ],
   "source": [
    "consulta_sql = gerar_sql(pergunta, pergunta_analisada, substantivos_unicos)['consulta_sql']\n",
    "print(consulta_sql)"
   ]
  },
  {
   "cell_type": "markdown",
   "metadata": {},
   "source": [
    "### Validando e corrigindo a consulta SQL gerada\n",
    "\n",
    "Caso sua memoria seja boa, você se lembra-ra que devemos corrigir a resposta de um LLM, essa tem sido uma boa prática que a comunidade adotou. Logo, vamos validar se o outro Agente trabalhou como esperado.\n",
    "\n",
    "As tecnicas utilizadas aqui são mais do mesmo, nada que falha ser mencionado."
   ]
  },
  {
   "cell_type": "code",
   "execution_count": 48,
   "metadata": {},
   "outputs": [],
   "source": [
    "def validar_e_corrigir_sql(consulta_sql) -> dict:\n",
    "        \"\"\"Valida e corrige a consulta SQL gerada.\"\"\"      \n",
    "\n",
    "        if consulta_sql == \"NOT_RELEVANT\":\n",
    "            return {\"sql_query\": \"NOT_RELEVANT\", \"sql_valid\": False}\n",
    "        \n",
    "        esquema = db_manager.get_schema()\n",
    "\n",
    "        prompt = ChatPromptTemplate.from_messages([\n",
    "            (\"system\", '''\n",
    "Você é um assistente de IA que valida e corrige consultas SQL. Sua tarefa é:\n",
    "1. Verificar se a consulta SQL é válida.\n",
    "2. Garantir que todos os nomes de tabelas e colunas estejam corretamente escritos e existam no esquema do banco de dados. Todos os nomes de tabelas e colunas devem estar entre crases.\n",
    "3. Se houver problemas, corrija-os e forneça a consulta SQL corrigida.\n",
    "4. Se não houver problemas, retorne a consulta original.\n",
    "\n",
    "Responda no formato JSON com a seguinte estrutura. Responda apenas com o JSON:\n",
    "{{\n",
    "    \"valid\": booleano,\n",
    "    \"issues\": string ou null,\n",
    "    \"corrected_query\": string\n",
    "}}\n",
    "'''),\n",
    "            (\"human\", '''===Esquema do banco de dados:\n",
    "{esquema}\n",
    "\n",
    "===Consulta SQL gerada:\n",
    "{consulta_sql}\n",
    "\n",
    "Responda no formato JSON com a seguinte estrutura. Responda apenas com o JSON:\n",
    "{{\n",
    "    \"valid\": booleano,\n",
    "    \"issues\": string ou null,\n",
    "    \"corrected_query\": string\n",
    "}}\n",
    "\n",
    "Por exemplo:\n",
    "1. {{\n",
    "    \"valid\": true,\n",
    "    \"issues\": null,\n",
    "    \"corrected_query\": \"None\"\n",
    "}}\n",
    "             \n",
    "2. {{\n",
    "    \"valid\": false,\n",
    "    \"issues\": \"A coluna USERS não existe\",\n",
    "    \"corrected_query\": \"SELECT * FROM \\`users\\` WHERE age > 25\"\n",
    "}}\n",
    "\n",
    "3. {{\n",
    "    \"valid\": false,\n",
    "    \"issues\": \"Os nomes de colunas e tabelas devem estar entre crases se contiverem espaços ou caracteres especiais\",\n",
    "    \"corrected_query\": \"SELECT * FROM \\`gross income\\` WHERE \\`age\\` > 25\"\n",
    "}}\n",
    "             \n",
    "'''),\n",
    "        ])\n",
    "\n",
    "        analisador_saida = JsonOutputParser()\n",
    "        resposta = llm_manager.invoke(prompt, esquema=esquema, consulta_sql=consulta_sql)\n",
    "        resposta = re.sub(r'<think>.*?</think>\\s*', '', resposta, flags=re.DOTALL)  \n",
    "        print(resposta)     \n",
    "        resultado = analisador_saida.parse(resposta)\n",
    "\n",
    "        if resultado[\"valid\"] and resultado[\"issues\"] is None:\n",
    "            return {\"consulta_sql_analisada\": consulta_sql, \"sql_valid\": True}\n",
    "        else:\n",
    "            return {\n",
    "                \"consulta_sql_analisada\": resultado[\"corrected_query\"],\n",
    "                \"sql_valid\": resultado[\"valid\"],\n",
    "                \"sql_issues\": resultado[\"issues\"]\n",
    "            }\n"
   ]
  },
  {
   "cell_type": "code",
   "execution_count": 49,
   "metadata": {},
   "outputs": [
    {
     "name": "stdout",
     "output_type": "stream",
     "text": [
      "```json\n",
      "{\n",
      "    \"valid\": false,\n",
      "    \"issues\": \"Os nomes de colunas e tabelas devem estar entre crases se contiverem espaços ou caracteres especiais\",\n",
      "    \"corrected_query\": \"SELECT `NM_Processo`, `DS_Processo` FROM `processos_andamento` WHERE `NM_Cliente` = 'Ana Souza' AND `NM_Processo` IS NOT NULL AND `DS_Processo` IS NOT NULL AND `NM_Processo` != \\\"\\\" AND `DS_Processo` != \\\"\\\" AND `NM_Processo` != \\\"N/A\\\" AND `DS_Processo` != \\\"N/A\\\"\"\n",
      "}\n",
      "```\n",
      "{'consulta_sql_analisada': 'SELECT `NM_Processo`, `DS_Processo` FROM `processos_andamento` WHERE `NM_Cliente` = \\'Ana Souza\\' AND `NM_Processo` IS NOT NULL AND `DS_Processo` IS NOT NULL AND `NM_Processo` != \"\" AND `DS_Processo` != \"\" AND `NM_Processo` != \"N/A\" AND `DS_Processo` != \"N/A\"', 'sql_valid': False, 'sql_issues': 'Os nomes de colunas e tabelas devem estar entre crases se contiverem espaços ou caracteres especiais'}\n"
     ]
    }
   ],
   "source": [
    "consulta_sql_analisada = validar_e_corrigir_sql(consulta_sql)\n",
    "print(consulta_sql_analisada)"
   ]
  },
  {
   "cell_type": "code",
   "execution_count": 50,
   "metadata": {},
   "outputs": [
    {
     "name": "stdout",
     "output_type": "stream",
     "text": [
      "SELECT `NM_Processo`, `DS_Processo` FROM `processos_andamento` WHERE `NM_Cliente` = 'Ana Souza' AND `NM_Processo` IS NOT NULL AND `DS_Processo` IS NOT NULL AND `NM_Processo` != \"\" AND `DS_Processo` != \"\" AND `NM_Processo` != \"N/A\" AND `DS_Processo` != \"N/A\"\n"
     ]
    }
   ],
   "source": [
    "print(consulta_sql_analisada['consulta_sql_analisada'])"
   ]
  },
  {
   "cell_type": "markdown",
   "metadata": {},
   "source": [
    "### Executando a consulta SQL gerada\n",
    "\n",
    "Agora saberemos se o objetvo foi alcançado. Nada de LLM, somente a boa e velha **QUERY**."
   ]
  },
  {
   "cell_type": "code",
   "execution_count": 51,
   "metadata": {},
   "outputs": [],
   "source": [
    "def executar_sql(consulta: str) -> dict:\n",
    "    \"\"\"Executa a consulta SQL e retorna os resultados.\"\"\"   \n",
    "    \n",
    "    if consulta == \"NOT_RELEVANT\":\n",
    "        return {\"resultados\": \"NOT_RELEVANT\"}\n",
    "\n",
    "    try:\n",
    "        resultados = db_manager.execute_query(consulta)\n",
    "        return {\"resultados\": resultados}\n",
    "    except Exception as e:\n",
    "        return {\"erro\": str(e)}"
   ]
  },
  {
   "cell_type": "code",
   "execution_count": 52,
   "metadata": {},
   "outputs": [
    {
     "name": "stdout",
     "output_type": "stream",
     "text": [
      "{'resultados': [{'NM_Processo': 'Avaliação de Desempenho', 'DS_Processo': 'Coleta de feedbacks em andamento.'}]}\n"
     ]
    }
   ],
   "source": [
    "resultados = executar_sql(consulta_sql_analisada['consulta_sql_analisada']) \n",
    "print(str(resultados))"
   ]
  },
  {
   "cell_type": "code",
   "execution_count": 53,
   "metadata": {},
   "outputs": [
    {
     "name": "stdout",
     "output_type": "stream",
     "text": [
      "NM_Processo | DS_Processo\n",
      "------------------------------\n",
      "Avaliação de Desempenho | Coleta de feedbacks em andamento.\n"
     ]
    }
   ],
   "source": [
    "# Obtém os nomes das colunas\n",
    "colunas = resultados[\"resultados\"][0].keys()\n",
    "\n",
    "# Imprime cabeçalho\n",
    "print(\" | \".join(colunas))\n",
    "print(\"-\" * (len(\" | \".join(colunas)) + 5))\n",
    "\n",
    "# Imprime os dados formatados\n",
    "for linha in resultados[\"resultados\"]:\n",
    "    print(\" | \".join(str(valor) for valor in linha.values()))"
   ]
  },
  {
   "cell_type": "markdown",
   "metadata": {},
   "source": [
    "## Conclusão\n",
    "\n",
    "Aparentemente os resultados foram bons, o processo criado abstrai bem a lógica de criação de um SQL, o LLM conseguiu realizar muito bem sua atividade, e, ao menos para mim, a resposta foi o esperado.\n",
    "\n",
    "Claro que quanto mais os Agentes forem refinados, mais a resposta ficará melhor."
   ]
  },
  {
   "cell_type": "markdown",
   "metadata": {},
   "source": [
    "## Próximos Passos\n",
    "\n",
    "Um ponto final só é o começo de uma nova frase, seguindo esse analogia, quero continuar evoluindo esse projeto. Algumas funcionalidades que irei implementar:\n",
    "\n",
    "- Criar um Agente que cria uma resposta para o usuário.\n",
    "- Criar um Grafo com lang-graf.\n",
    "- Criar um Chat utilizando Chainlit.\n",
    "- Quem sabe: Criar um Chatbot no Whatssapp com esse esquema.\n"
   ]
  },
  {
   "cell_type": "markdown",
   "metadata": {},
   "source": [
    "## Minhas Limitações\n",
    "\n",
    "Ainda tenho muitas duvidas quanto o processo de criar consultas a partir de texto natural, o TTQ(text to Query) ainda me parece um pouco complicado, mas isso vai melhorar ao longo do tempo.\n",
    "\n",
    "- Como lidar com várias requisições vindas pelos Whatsapp\n",
    "- Como manter o contexto em uma conversa, o usuário pode fazer uma pergunta e depois outra."
   ]
  },
  {
   "cell_type": "markdown",
   "metadata": {},
   "source": [
    "## Como Imagino Parte da Implementação\n",
    "\n",
    "Já parti do principio que existe uma tabela com toda as informações necessárias. Por obvio ela deverá ser criada e as informações carregadas nela de alguma forma. Parte da lógica que usária é a seguinte:\n",
    "\n",
    "- Criar a tabela que irá receber os processo.\n",
    "- Cada processo criado dentro da ferramenta é responsável por registar seu progresso nessa tabela, pode ser com uma integração passagem de etapa.\n",
    "  - Ao abrir o processo devesse registar o código dele nessa tabela\n",
    "  - Ao passa cada atividade, ou ao menos as mais relevantes para consulta, buscar pela referencia do processo na tabela e atualizar as informações.\n",
    "- Como algumas informações podem ser somente daquele processo, e não caber em um coluna genêrica, pode-se criar uma coluna que contenha um JSON com algumas informações especificas, essas informações podem servir de insumos para o Agente que irá criar a resposta.\n",
    "\n",
    "Para lidar com várias requisições pode ser que de para usar uma fila, por exemplo Kafka."
   ]
  }
 ],
 "metadata": {
  "kernelspec": {
   "display_name": ".venv",
   "language": "python",
   "name": "python3"
  },
  "language_info": {
   "codemirror_mode": {
    "name": "ipython",
    "version": 3
   },
   "file_extension": ".py",
   "mimetype": "text/x-python",
   "name": "python",
   "nbconvert_exporter": "python",
   "pygments_lexer": "ipython3",
   "version": "3.11.4"
  }
 },
 "nbformat": 4,
 "nbformat_minor": 2
}
