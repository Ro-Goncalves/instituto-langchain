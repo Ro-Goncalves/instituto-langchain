{
 "cells": [
  {
   "cell_type": "markdown",
   "metadata": {},
   "source": [
    "# APRENDENDO SOBRE TTQ - TEXT TO QUERY  \n",
    "\n",
    "Frameworks de agentes são fascinantes! Eles permitem a execução de uma série de tarefas que antes eram extremamente complicadas — ou até mesmo impossíveis. Trabalho criando consultas em bancos de dados desde 2018 e, quando os LLMs foram lançados, logo me perguntei:  \n",
    "\n",
    "> Será que é possível pedir para uma LLM gerar uma consulta SQL e executá-la? 🤔  \n",
    "\n",
    "Bem, é exatamente isso que vou testar neste notebook.  \n",
    "\n",
    "---  \n",
    "\n",
    "## **Objetivo**  \n",
    "\n",
    "Uma das minhas principais atividades é digitalizar e automatizar processos de negócio. Dentro desse contexto, estabeleci um desafio:  \n",
    "\n",
    "> Como criar um sistema que responda pelo WhatsApp, interpretando uma solicitação em linguagem natural e gerando uma consulta sobre um processo?  \n",
    "\n",
    "Esse será o objetivo deste estudo. 🚀"
   ]
  },
  {
   "cell_type": "markdown",
   "metadata": {},
   "source": [
    "## Importando bibliotecas"
   ]
  },
  {
   "cell_type": "code",
   "execution_count": 1,
   "metadata": {},
   "outputs": [],
   "source": [
    "from typing import List, Any\n",
    "import re\n",
    "import os\n",
    "import sqlite3\n",
    "import logging\n",
    "from datetime import datetime\n",
    "from langchain_core.prompts import ChatPromptTemplate\n",
    "from langchain_core.output_parsers import JsonOutputParser\n",
    "from langchain_groq import ChatGroq\n",
    "from dotenv import load_dotenv"
   ]
  },
  {
   "cell_type": "markdown",
   "metadata": {},
   "source": [
    "## Carregando Variáveis de Ambiente"
   ]
  },
  {
   "cell_type": "code",
   "execution_count": 2,
   "metadata": {},
   "outputs": [],
   "source": [
    "load_dotenv()\n",
    "\n",
    "DB_PATH = \"../.db/SQL_AGENT.db\""
   ]
  },
  {
   "cell_type": "markdown",
   "metadata": {},
   "source": [
    "## Criando logger"
   ]
  },
  {
   "cell_type": "code",
   "execution_count": 3,
   "metadata": {},
   "outputs": [],
   "source": [
    "logging.basicConfig(\n",
    "    level=logging.INFO,\n",
    "    format='%(asctime)s - %(levelname)s - %(message)s',\n",
    "    handlers=[        \n",
    "        logging.StreamHandler()\n",
    "    ]\n",
    ")\n",
    "\n",
    "LOGGER = logging.getLogger(__name__)"
   ]
  },
  {
   "cell_type": "markdown",
   "metadata": {},
   "source": [
    "## Criando o banco de dados  \n",
    "\n",
    "Antes de qualquer coisa, precisamos de um banco com uma tabela e algumas informações para pesquisar.  \n",
    "\n",
    "Imagine uma empresa que gerencia processos como **Recrutamento**, **Seleção**, **Avaliação de Desempenho** e **Solicitação de Férias**, todos mapeados e digitalizados dentro da plataforma Lecom.  \n",
    "\n",
    "Depois, foi criado um processo que extrai informações importantes sobre esses fluxos e as armazena na tabela `processos_andamento`. Essa será a base de dados utilizada pelo nosso sistema de agentes.  \n",
    "\n",
    "Vale destacar que tudo isso foi criado de forma genérica, com a ajuda do ChatGPT. 🤖"
   ]
  },
  {
   "cell_type": "code",
   "execution_count": 7,
   "metadata": {},
   "outputs": [
    {
     "name": "stderr",
     "output_type": "stream",
     "text": [
      "2025-03-20 17:55:32,456 - INFO - Iniciando configuração do banco de dados em ../.db/SQL_AGENT.db\n",
      "2025-03-20 17:55:32,461 - INFO - Diretório verificado/criado: ../.db\n",
      "2025-03-20 17:55:32,465 - INFO - Conexão com o banco de dados estabelecida com sucesso\n",
      "2025-03-20 17:55:32,467 - INFO - Tabela 'processos_andamento' encontrada - excluindo\n",
      "2025-03-20 17:55:32,490 - INFO - Tabela excluída com sucesso\n",
      "2025-03-20 17:55:32,491 - INFO - Criando nova tabela 'processos_andamento'\n",
      "2025-03-20 17:55:32,525 - INFO - Tabela criada com sucesso\n",
      "2025-03-20 17:55:32,526 - INFO - Inserindo 7 registros na tabela\n",
      "2025-03-20 17:55:32,537 - INFO - Dados inseridos com sucesso (7 registros)\n",
      "2025-03-20 17:55:32,539 - INFO - Total de registros na tabela: 7\n",
      "2025-03-20 17:55:32,594 - INFO - Alterações salvas no banco de dados (commit realizado)\n",
      "2025-03-20 17:55:32,597 - INFO - Conexão com o banco de dados fechada\n",
      "2025-03-20 17:55:32,598 - INFO - Banco de dados SQLite configurado com sucesso em ../.db/SQL_AGENT.db\n"
     ]
    }
   ],
   "source": [
    "LOGGER.info(f\"Iniciando configuração do banco de dados em {DB_PATH}\")\n",
    "\n",
    "os.makedirs(os.path.dirname(DB_PATH), exist_ok=True)\n",
    "LOGGER.info(f\"Diretório verificado/criado: {os.path.dirname(DB_PATH)}\")\n",
    "\n",
    "try:\n",
    "    conn = sqlite3.connect(DB_PATH)\n",
    "    cursor = conn.cursor()\n",
    "    LOGGER.info(\"Conexão com o banco de dados estabelecida com sucesso\")\n",
    "   \n",
    "    cursor.execute(\"SELECT name FROM sqlite_master WHERE type='table' AND name='processos_andamento'\")\n",
    "    if cursor.fetchone():\n",
    "        LOGGER.info(\"Tabela 'processos_andamento' encontrada - excluindo\")\n",
    "        cursor.execute(\"DROP TABLE processos_andamento\")\n",
    "        LOGGER.info(\"Tabela excluída com sucesso\")\n",
    "    else:\n",
    "        LOGGER.info(\"Tabela 'processos_andamento' não existe - criação será realizada\")\n",
    "   \n",
    "    LOGGER.info(\"Criando nova tabela 'processos_andamento'\")\n",
    "    cursor.execute(\"\"\"\n",
    "    CREATE TABLE processos_andamento (\n",
    "        ID_Processo_Andamento INTEGER PRIMARY KEY AUTOINCREMENT,\n",
    "        Codigo_Processo INTEGER NOT NULL,\n",
    "        Codigo_Atividade INTEGER NOT NULL,\n",
    "        Nome_Processo TEXT NOT NULL,\n",
    "        Nome_Atividade TEXT NOT NULL,\n",
    "        Nome_Cliente TEXT NOT NULL,\n",
    "        Telefone_Cliente TEXT NOT NULL,\n",
    "        Descricao_Processo TEXT NOT NULL,\n",
    "        Data_Atividade DATE NOT NULL\n",
    "    );\n",
    "    \"\"\")\n",
    "    LOGGER.info(\"Tabela criada com sucesso\")\n",
    "   \n",
    "    dados_iniciais = [\n",
    "        (1, 101, 'Recrutamento', 'Receber currículo', 'João Silva', '11987654321', 'Recebeu currículo e iniciou análise.', '2024-03-01'),\n",
    "        (1, 102, 'Recrutamento', 'Entrevista inicial', 'João Silva', '11987654321', 'Entrevista marcada para avaliação inicial.', '2024-03-02'),\n",
    "        (2, 201, 'Seleção', 'Teste técnico', 'Maria Oliveira', '11976543210', 'Teste técnico agendado.', '2024-03-03'),\n",
    "        (2, 202, 'Seleção', 'Entrevista final', 'Carlos Pereira', '11965432109', 'Entrevista final marcada.', '2024-03-04'),\n",
    "        (3, 301, 'Avaliação de Desempenho', 'Revisão do desempenho', 'Ana Souza', '11954321098', 'Coleta de feedbacks em andamento.', '2024-03-05'),\n",
    "        (3, 302, 'Avaliação de Desempenho', 'Reunião de feedback', 'Carlos Pereira', '11965432109', 'Reunião agendada com gerente.', '2024-03-06'),\n",
    "        (4, 401, 'Solicitação de Férias', 'Pedido formalizado', 'João Silva', '11987654321', 'Pedido de férias registrado.', '2024-03-07')\n",
    "    ]\n",
    "   \n",
    "    LOGGER.info(f\"Inserindo {len(dados_iniciais)} registros na tabela\")\n",
    "    cursor.executemany(\"\"\"\n",
    "        INSERT INTO processos_andamento\n",
    "        (Codigo_Processo, Codigo_Atividade, Nome_Processo, Nome_Atividade, Nome_Cliente, Telefone_Cliente, Descricao_Processo, Data_Atividade)\n",
    "        VALUES (?, ?, ?, ?, ?, ?, ?, ?)\n",
    "    \"\"\", dados_iniciais)\n",
    "    LOGGER.info(f\"Dados inseridos com sucesso ({len(dados_iniciais)} registros)\")\n",
    "    \n",
    "    # Verificar número de registros inseridos\n",
    "    cursor.execute(\"SELECT COUNT(*) FROM processos_andamento\")\n",
    "    count = cursor.fetchone()[0]\n",
    "    LOGGER.info(f\"Total de registros na tabela: {count}\")\n",
    "    \n",
    "    # Salvar e fechar a conexão\n",
    "    conn.commit()\n",
    "    LOGGER.info(\"Alterações salvas no banco de dados (commit realizado)\")\n",
    "    conn.close()\n",
    "    LOGGER.info(\"Conexão com o banco de dados fechada\")\n",
    "    \n",
    "    LOGGER.info(f\"Banco de dados SQLite configurado com sucesso em {DB_PATH}\")\n",
    "    \n",
    "except sqlite3.Error as e:\n",
    "    LOGGER.error(f\"Erro SQLite: {e}\")\n",
    "except Exception as e:\n",
    "    LOGGER.error(f\"Erro inesperado: {e}\")"
   ]
  },
  {
   "cell_type": "markdown",
   "metadata": {},
   "source": [
    "### Criando o gerenciador de banco de dados\n",
    "\n",
    "Ótimo, agora já temos nossa base de dados, vamos criar a classe que irá manipular ela.  \n",
    "Essa classe é relativamente simples.Possui o método `get_schema() -> str` que retornar o formato da tabela no banco e o `execute_query(query: str) -> List[Any]` que executa uma query SQL e retorna os resultados."
   ]
  },
  {
   "cell_type": "code",
   "execution_count": 5,
   "metadata": {},
   "outputs": [],
   "source": [
    "class DatabaseManager:\n",
    "    def __init__(self):\n",
    "        \"\"\"Inicializa o gerenciador de banco de dados com SQLite.\"\"\"\n",
    "        self.db_path = DB_PATH\n",
    "        self.connection = sqlite3.connect(self.db_path)\n",
    "        self.connection.row_factory = sqlite3.Row  # Permite acessar os resultados por nome de coluna\n",
    "\n",
    "    def get_schema(self) -> str:\n",
    "        \"\"\"Recupera o esquema do banco de dados SQLite.\"\"\"\n",
    "        try:\n",
    "            cursor = self.connection.cursor()\n",
    "            cursor.execute(\"SELECT name, sql FROM sqlite_master WHERE type='table';\")\n",
    "            schema_info = cursor.fetchall()\n",
    "            \n",
    "            schema = \"\\n\".join(f\"Table: {row['name']}\\n{row['sql']}\" for row in schema_info if row['sql'])\n",
    "            return schema\n",
    "        except sqlite3.DatabaseError as e:\n",
    "            raise Exception(f\"Erro ao obter o esquema do banco de dados: {str(e)}\")\n",
    "\n",
    "    def execute_query(self, query: str) -> List[Any]:\n",
    "        \"\"\"Executa uma query SQL no banco SQLite e retorna os resultados.\"\"\"\n",
    "        try:\n",
    "            cursor = self.connection.cursor()\n",
    "            cursor.execute(query)\n",
    "            self.connection.commit()\n",
    "\n",
    "            # Retorna os resultados da consulta, se houver\n",
    "            if query.strip().lower().startswith(\"select\"):\n",
    "                return [dict(row) for row in cursor.fetchall()]\n",
    "            return []\n",
    "        except sqlite3.DatabaseError as e:\n",
    "            raise Exception(f\"Erro ao executar a consulta: {str(e)}\")\n",
    "\n",
    "    def close(self):\n",
    "        \"\"\"Fecha a conexão com o banco de dados.\"\"\"\n",
    "        self.connection.close()"
   ]
  },
  {
   "cell_type": "code",
   "execution_count": 6,
   "metadata": {},
   "outputs": [
    {
     "name": "stdout",
     "output_type": "stream",
     "text": [
      "Table: processos_andamento\n",
      "CREATE TABLE processos_andamento (\n",
      "    ID_Processo_Andamento INTEGER PRIMARY KEY AUTOINCREMENT,\n",
      "    CD_Processo INTEGER NOT NULL,\n",
      "    CD_Atividade INTEGER NOT NULL,\n",
      "    NM_Processo TEXT NOT NULL,\n",
      "    NM_Atividade TEXT NOT NULL,\n",
      "    NM_Cliente TEXT NOT NULL,\n",
      "    Telefone_Cliente TEXT NOT NULL,\n",
      "    DS_Processo TEXT NOT NULL,\n",
      "    DT_Atividade DATE NOT NULL\n",
      ")\n",
      "Table: sqlite_sequence\n",
      "CREATE TABLE sqlite_sequence(name,seq)\n",
      "\n",
      "\n",
      "{'ID_Processo_Andamento': 1, 'CD_Processo': 1, 'CD_Atividade': 101, 'NM_Processo': 'Recrutamento', 'NM_Atividade': 'Receber currículo', 'NM_Cliente': 'João Silva', 'Telefone_Cliente': '11987654321', 'DS_Processo': 'Recebeu currículo e iniciou análise.', 'DT_Atividade': '2024-03-01'}\n"
     ]
    }
   ],
   "source": [
    "db_manager = DatabaseManager()\n",
    "\n",
    "print(db_manager.get_schema())\n",
    "print(\"\\n\"*2 + str(db_manager.execute_query(\"SELECT * FROM processos_andamento\")[0]))"
   ]
  },
  {
   "cell_type": "markdown",
   "metadata": {},
   "source": [
    "### Criando o gerenciador de LLM\n",
    "\n",
    "O que deixa os agentes inteligentes é o LLM, nada mais justo do que termos o nosso.  \n",
    "Nesse exemplo estou usando o modelo `deepseek-r1-distill-llama-70b` via `GROQ`, pois esse tem um camada *free* muito boa e aquele tem a habilidade de refletir antes de gerar a resposta, bem, vamos ver se isso impacta em algo."
   ]
  },
  {
   "cell_type": "code",
   "execution_count": 7,
   "metadata": {},
   "outputs": [],
   "source": [
    "class LLMManager:\n",
    "    def __init__(self):\n",
    "        self.llm = ChatGroq(\n",
    "            model=\"deepseek-r1-distill-llama-70b\",\n",
    "            api_key=os.getenv(\"GROQ_API_KEY\"),\n",
    "            temperature=0.1,\n",
    "            max_retries=2,\n",
    "        )\n",
    "\n",
    "    def invoke(self, prompt: ChatPromptTemplate, **kwargs) -> str:\n",
    "        messages = prompt.format_messages(**kwargs)\n",
    "        response = self.llm.invoke(messages)\n",
    "        return response.content"
   ]
  },
  {
   "cell_type": "code",
   "execution_count": 8,
   "metadata": {},
   "outputs": [
    {
     "name": "stdout",
     "output_type": "stream",
     "text": [
      "<think>\n",
      "Okay, so Rodrigo just introduced himself and asked for my name. I need to respond in a friendly and happy manner. Since I'm supposed to always be cheerful, I should keep the tone upbeat. I should thank him for the greeting and share my name, which is Brian. Maybe add an emoji to keep it lively. Let me put that together.\n",
      "</think>\n",
      "\n",
      "Olá Rodrigo! Muito prazer em te conhecer! Eu sou o Brian. Como posso te ajudar hoje? 😊\n"
     ]
    }
   ],
   "source": [
    "llm_manager = LLMManager()\n",
    "\n",
    "template = ChatPromptTemplate([\n",
    "    (\"system\", \"Seu nome é Brian, você está sempre feliz e alegre, sempre respondendo em PT-BR.\"),\n",
    "    (\"human\", \"Olá, meu nome é Rodrigo, e o seu?\"),   \n",
    "])\n",
    "\n",
    "print(llm_manager.invoke(template))"
   ]
  },
  {
   "cell_type": "markdown",
   "metadata": {},
   "source": [
    "### Analisando a pergunta do usuário\n",
    "\n",
    "Nosso primeiro Agente deverá indentificar quais as colunas da tabela são realmente relevantes à pergunta do usuário.  \n",
    "Para criar um agente é necessário se valer de algumas tecnicas, o famigerado Prompting Engeniering, veja algumas das que podem ser encontradas nesse:\n",
    "\n",
    "- **Definição de Persona**: Consiste em instruir o modelo a adotar um papel ou identidade específica, o que pode influenciar seu estilo de resposta e foco.\n",
    "- **Instrução Clara e Específica**: Envolve fornecer comandos diretos e detalhados sobre a tarefa que o modelo deve realizar, minimizando ambiguidades.\n",
    "- **Formato de Saída Especificado**: Trata-se de definir a estrutura ou o formato desejado para a resposta do modelo, como um tipo de dado específico (JSON, lista, etc.).\n",
    "- **Restrições e Regras Detalhadas**: Inclui a definição de limitações, condições ou regras específicas que o modelo deve seguir ao gerar a resposta.\n",
    "- **Injeção de Contexto**: Refere-se à prática de fornecer informações adicionais relevantes para a tarefa, permitindo que o modelo compreenda melhor o cenário.\n",
    "- **Uso de Delimitadores**: Envolve a utilização de marcadores para separar diferentes partes da entrada (como instruções, contexto e exemplos), facilitando a interpretação pelo modelo.\n"
   ]
  },
  {
   "cell_type": "code",
   "execution_count": 9,
   "metadata": {},
   "outputs": [],
   "source": [
    "def analisar_pergunta(pergunta: str) -> dict:\n",
    "    \"\"\"Analisa a pergunta do usuário e identifica as tabelas e colunas relevantes.\"\"\"    \n",
    "    esquema = db_manager.get_schema()\n",
    "\n",
    "    prompt = ChatPromptTemplate.from_messages([\n",
    "        (\"system\", '''Você é um analista de dados que pode ajudar a resumir tabelas SQL e interpretar perguntas de usuários sobre um banco de dados.  \n",
    "Dada a pergunta e o esquema do banco de dados, identifique as tabelas e colunas relevantes.  \n",
    "Se a pergunta não for relevante para o banco de dados ou se não houver informações suficientes para respondê-la, defina \"is_relevant\" como falso.\n",
    "\n",
    "Sua resposta deve estar no seguinte formato JSON:\n",
    "{{\n",
    "    \"is_relevant\": boolean,\n",
    "    \"relevant_tables\": [\n",
    "        {{\n",
    "            \"table_name\": string,\n",
    "            \"columns\": [string],\n",
    "            \"noun_columns\": [string]\n",
    "        }}\n",
    "    ]\n",
    "}}\n",
    "\n",
    "O campo \"noun_columns\" deve conter apenas as colunas que são relevantes para a pergunta e que contêm substantivos ou nomes.  \n",
    "Por exemplo, a coluna \"Nome do Artista\" contém substantivos relevantes para a pergunta \"Quais são os artistas mais vendidos?\",  \n",
    "mas a coluna \"ID do Artista\" não é relevante, pois não contém um substantivo. Não inclua colunas que contenham números.\n",
    "'''),\n",
    "        (\"human\", \"===Esquema do banco de dados:\\n{schema}\\n\\n===Pergunta do usuário:\\n{question}\\n\\nIdentifique as tabelas e colunas relevantes:\")\n",
    "    ])\n",
    "\n",
    "    analisador_json = JsonOutputParser()\n",
    "    \n",
    "    resposta = llm_manager.invoke(prompt, schema=esquema, question=pergunta)\n",
    "    resposta_analisada = analisador_json.parse(resposta)\n",
    "    return {\"pergunta_analisada\": resposta_analisada}\n"
   ]
  },
  {
   "cell_type": "code",
   "execution_count": 38,
   "metadata": {},
   "outputs": [
    {
     "name": "stdout",
     "output_type": "stream",
     "text": [
      "{'is_relevant': True, 'relevant_tables': [{'table_name': 'processos_andamento', 'columns': ['NM_Cliente', 'NM_Processo', 'DS_Processo'], 'noun_columns': ['NM_Cliente', 'NM_Processo', 'DS_Processo']}]}\n"
     ]
    }
   ],
   "source": [
    "pergunta = \"Do que se trada o processo da Ana Souza?\"\n",
    "pergunta_analisada = analisar_pergunta(pergunta)['pergunta_analisada']\n",
    "print(pergunta_analisada)"
   ]
  },
  {
   "cell_type": "markdown",
   "metadata": {},
   "source": [
    "### Encontrando substantivos únicos nas tabelas e colunas relevantes\n",
    "\n",
    "É sempre bom dar uma conferida no que um LLM respondeu, essa parte do processo irá higienizar o retorno, garantindo que as colunas apareçam somente uma vez."
   ]
  },
  {
   "cell_type": "code",
   "execution_count": 39,
   "metadata": {},
   "outputs": [],
   "source": [
    "def obter_substantivos_unicos(pergunta_analisada: dict) -> dict:\n",
    "    \"\"\"Encontra substantivos únicos nas tabelas e colunas relevantes.\"\"\"    \n",
    "    \n",
    "    if not pergunta_analisada['is_relevant']:\n",
    "        return {\"substantivos_unicos\": []}\n",
    "\n",
    "    substantivos_unicos = set()\n",
    "    for info_tabela in pergunta_analisada['relevant_tables']:\n",
    "        nome_tabela = info_tabela['table_name']\n",
    "        colunas_substantivos = info_tabela['noun_columns']\n",
    "        \n",
    "        if colunas_substantivos:\n",
    "            nomes_colunas = ', '.join(f\"`{col}`\" for col in colunas_substantivos)\n",
    "            consulta = f\"SELECT DISTINCT {nomes_colunas} FROM `{nome_tabela}`\"           \n",
    "            resultados = db_manager.execute_query(consulta)           \n",
    "            for linha in resultados:\n",
    "                substantivos_unicos.update(str(valor) for valor in linha if valor)\n",
    "\n",
    "    return {\"substantivos_unicos\": list(substantivos_unicos)}\n"
   ]
  },
  {
   "cell_type": "code",
   "execution_count": 40,
   "metadata": {},
   "outputs": [
    {
     "name": "stdout",
     "output_type": "stream",
     "text": [
      "['NM_Cliente', 'NM_Processo', 'DS_Processo']\n"
     ]
    }
   ],
   "source": [
    "substantivos_unicos = obter_substantivos_unicos(pergunta_analisada)['substantivos_unicos']\n",
    "print(substantivos_unicos)"
   ]
  },
  {
   "cell_type": "markdown",
   "metadata": {},
   "source": [
    "### Gera uma consulta SQL com base na pergunta analisada e nos substantivos únicos\n",
    "\n",
    "Sabe quando o filme está no seu apse, é nesse ponto que estamos. Temos a pergunta do usuário, uma analise de colunas relevantes e as colunas higienizadas, ou seja, temos insumos o suficiente para criar uma Agente que irá gerar a consulta SQL, *maravilhindo*.\n",
    "\n",
    "Vamos aproveitar o espaço e falar sobre mais um tecnica de prompt utilizada:\n",
    "\n",
    "- **Few-shot Prompting (Exemplos)**: Esta técnica envolve fornecer ao modelo alguns exemplos de entradas e suas respectivas saídas desejadas antes da pergunta principal. Isso ajuda o modelo a entender o formato esperado da resposta e a aprender o padrão da tarefa, melhorando a qualidade da sua geração."
   ]
  },
  {
   "cell_type": "code",
   "execution_count": 41,
   "metadata": {},
   "outputs": [],
   "source": [
    "def gerar_sql(pergunta: str, pergunta_analisada: dict, substantivos_unicos: list) -> dict:\n",
    "    \"\"\"Gera uma consulta SQL com base na pergunta analisada e nos substantivos únicos.\"\"\"  \n",
    "\n",
    "    if not pergunta_analisada['is_relevant']:\n",
    "        return {\"sql_query\": \"NOT_RELEVANT\", \"is_relevant\": False}\n",
    "\n",
    "    esquema = db_manager.get_schema()\n",
    "\n",
    "    prompt = ChatPromptTemplate.from_messages([\n",
    "        (\"system\", '''\n",
    "Você é um assistente de IA que gera consultas SQL com base na pergunta do usuário, no esquema do banco de dados e nos substantivos únicos encontrados nas tabelas relevantes. Gere uma consulta SQL válida para responder à pergunta do usuário.\n",
    "\n",
    "Se não houver informações suficientes para escrever uma consulta SQL, responda com \"NOT_ENOUGH_INFO\".\n",
    "\n",
    "Aqui estão alguns exemplos:\n",
    "\n",
    "1. Qual é o produto mais vendido?\n",
    "Resposta: SELECT product_name, SUM(quantity) as total_quantity FROM sales WHERE product_name IS NOT NULL AND quantity IS NOT NULL AND product_name != \"\" AND quantity != \"\" AND product_name != \"N/A\" AND quantity != \"N/A\" GROUP BY product_name ORDER BY total_quantity DESC LIMIT 1\n",
    "\n",
    "2. Qual é a receita total para cada produto?\n",
    "Resposta: SELECT \\`product name\\`, SUM(quantity * price) as total_revenue FROM sales WHERE \\`product name\\` IS NOT NULL AND quantity IS NOT NULL AND price IS NOT NULL AND \\`product name\\` != \"\" AND quantity != \"\" AND price != \"\" AND \\`product name\\` != \"N/A\" AND quantity != \"N/A\" AND price != \"N/A\" GROUP BY \\`product name\\`  ORDER BY total_revenue DESC\n",
    "\n",
    "3. Qual é a participação de mercado de cada produto?\n",
    "Resposta: SELECT \\`product name\\`, SUM(quantity) * 100.0 / (SELECT SUM(quantity) FROM sales) as market_share FROM sales WHERE \\`product name\\` IS NOT NULL AND quantity IS NOT NULL AND \\`product name\\` != \"\" AND quantity != \"\" AND \\`product name\\` != \"N/A\" AND quantity != \"N/A\" GROUP BY \\`product name\\`  ORDER BY market_share DESC\n",
    "\n",
    "4. Plote a distribuição de renda ao longo do tempo.\n",
    "Resposta: SELECT income, COUNT(*) as count FROM users WHERE income IS NOT NULL AND income != \"\" AND income != \"N/A\" GROUP BY income\n",
    "\n",
    "OS RESULTADOS DEVEM ESTAR APENAS NO SEGUINTE FORMATO, ENTÃO CERTIFIQUE-SE DE INCLUIR APENAS DUAS OU TRÊS COLUNAS:\n",
    "[[x, y]]\n",
    "ou \n",
    "[[label, x, y]]\n",
    "\n",
    "Para perguntas como \"plote uma distribuição das tarifas pagas por homens e mulheres\", conte a frequência de cada tarifa e plote-a. O eixo x deve ser a tarifa e o eixo y deve ser a contagem de pessoas que pagaram essa tarifa.\n",
    "IGNORE TODAS AS LINHAS ONDE QUALQUER COLUNA SEJA NULL, \"N/A\" ou \"\".\n",
    "Apenas forneça a string da consulta SQL. Não a formate. Certifique-se de usar a grafia correta dos substantivos conforme fornecido na lista de substantivos únicos. Todos os nomes de tabelas e colunas devem estar entre crases.\n",
    "'''),\n",
    "        (\"human\", '''===Esquema do banco de dados:\n",
    "{schema}\n",
    "\n",
    "===Pergunta do usuário:\n",
    "{question}\n",
    "\n",
    "===Tabelas e colunas relevantes:\n",
    "{parsed_question}\n",
    "\n",
    "===Substantivos únicos nas tabelas relevantes:\n",
    "{unique_nouns}\n",
    "\n",
    "Gere a string da consulta SQL'''),\n",
    "    ])\n",
    "\n",
    "    resposta = llm_manager.invoke(\n",
    "        prompt, \n",
    "        schema=esquema, \n",
    "        question=pergunta, \n",
    "        parsed_question=pergunta_analisada, \n",
    "        unique_nouns=substantivos_unicos\n",
    "    )\n",
    "\n",
    "    if resposta.strip() == \"NOT_ENOUGH_INFO\":\n",
    "        return {\"consulta_sql\": \"NOT_RELEVANT\"}\n",
    "    else:\n",
    "        return {\"consulta_sql\": re.sub(r'<think>.*?</think>\\s*', '', resposta, flags=re.DOTALL)} \n"
   ]
  },
  {
   "cell_type": "code",
   "execution_count": 42,
   "metadata": {},
   "outputs": [
    {
     "name": "stdout",
     "output_type": "stream",
     "text": [
      "SELECT NM_Processo, DS_Processo FROM processos_andamento WHERE NM_Cliente = 'Ana Souza' AND NM_Processo IS NOT NULL AND DS_Processo IS NOT NULL AND NM_Processo != \"\" AND DS_Processo != \"\" AND NM_Processo != \"N/A\" AND DS_Processo != \"N/A\"\n"
     ]
    }
   ],
   "source": [
    "consulta_sql = gerar_sql(pergunta, pergunta_analisada, substantivos_unicos)['consulta_sql']\n",
    "print(consulta_sql)"
   ]
  },
  {
   "cell_type": "markdown",
   "metadata": {},
   "source": [
    "### Validando e corrigindo a consulta SQL gerada\n",
    "\n",
    "Caso sua memoria seja boa, você se lembra-ra que devemos corrigir a resposta de um LLM, essa tem sido uma boa prática que a comunidade adotou. Logo, vamos validar se o outro Agente trabalhou como esperado.\n",
    "\n",
    "As tecnicas utilizadas aqui são mais do mesmo, nada que falha ser mencionado."
   ]
  },
  {
   "cell_type": "code",
   "execution_count": 48,
   "metadata": {},
   "outputs": [],
   "source": [
    "def validar_e_corrigir_sql(consulta_sql) -> dict:\n",
    "        \"\"\"Valida e corrige a consulta SQL gerada.\"\"\"      \n",
    "\n",
    "        if consulta_sql == \"NOT_RELEVANT\":\n",
    "            return {\"sql_query\": \"NOT_RELEVANT\", \"sql_valid\": False}\n",
    "        \n",
    "        esquema = db_manager.get_schema()\n",
    "\n",
    "        prompt = ChatPromptTemplate.from_messages([\n",
    "            (\"system\", '''\n",
    "Você é um assistente de IA que valida e corrige consultas SQL. Sua tarefa é:\n",
    "1. Verificar se a consulta SQL é válida.\n",
    "2. Garantir que todos os nomes de tabelas e colunas estejam corretamente escritos e existam no esquema do banco de dados. Todos os nomes de tabelas e colunas devem estar entre crases.\n",
    "3. Se houver problemas, corrija-os e forneça a consulta SQL corrigida.\n",
    "4. Se não houver problemas, retorne a consulta original.\n",
    "\n",
    "Responda no formato JSON com a seguinte estrutura. Responda apenas com o JSON:\n",
    "{{\n",
    "    \"valid\": booleano,\n",
    "    \"issues\": string ou null,\n",
    "    \"corrected_query\": string\n",
    "}}\n",
    "'''),\n",
    "            (\"human\", '''===Esquema do banco de dados:\n",
    "{esquema}\n",
    "\n",
    "===Consulta SQL gerada:\n",
    "{consulta_sql}\n",
    "\n",
    "Responda no formato JSON com a seguinte estrutura. Responda apenas com o JSON:\n",
    "{{\n",
    "    \"valid\": booleano,\n",
    "    \"issues\": string ou null,\n",
    "    \"corrected_query\": string\n",
    "}}\n",
    "\n",
    "Por exemplo:\n",
    "1. {{\n",
    "    \"valid\": true,\n",
    "    \"issues\": null,\n",
    "    \"corrected_query\": \"None\"\n",
    "}}\n",
    "             \n",
    "2. {{\n",
    "    \"valid\": false,\n",
    "    \"issues\": \"A coluna USERS não existe\",\n",
    "    \"corrected_query\": \"SELECT * FROM \\`users\\` WHERE age > 25\"\n",
    "}}\n",
    "\n",
    "3. {{\n",
    "    \"valid\": false,\n",
    "    \"issues\": \"Os nomes de colunas e tabelas devem estar entre crases se contiverem espaços ou caracteres especiais\",\n",
    "    \"corrected_query\": \"SELECT * FROM \\`gross income\\` WHERE \\`age\\` > 25\"\n",
    "}}\n",
    "             \n",
    "'''),\n",
    "        ])\n",
    "\n",
    "        analisador_saida = JsonOutputParser()\n",
    "        resposta = llm_manager.invoke(prompt, esquema=esquema, consulta_sql=consulta_sql)\n",
    "        resposta = re.sub(r'<think>.*?</think>\\s*', '', resposta, flags=re.DOTALL)  \n",
    "        print(resposta)     \n",
    "        resultado = analisador_saida.parse(resposta)\n",
    "\n",
    "        if resultado[\"valid\"] and resultado[\"issues\"] is None:\n",
    "            return {\"consulta_sql_analisada\": consulta_sql, \"sql_valid\": True}\n",
    "        else:\n",
    "            return {\n",
    "                \"consulta_sql_analisada\": resultado[\"corrected_query\"],\n",
    "                \"sql_valid\": resultado[\"valid\"],\n",
    "                \"sql_issues\": resultado[\"issues\"]\n",
    "            }\n"
   ]
  },
  {
   "cell_type": "code",
   "execution_count": 49,
   "metadata": {},
   "outputs": [
    {
     "name": "stdout",
     "output_type": "stream",
     "text": [
      "```json\n",
      "{\n",
      "    \"valid\": false,\n",
      "    \"issues\": \"Os nomes de colunas e tabelas devem estar entre crases se contiverem espaços ou caracteres especiais\",\n",
      "    \"corrected_query\": \"SELECT `NM_Processo`, `DS_Processo` FROM `processos_andamento` WHERE `NM_Cliente` = 'Ana Souza' AND `NM_Processo` IS NOT NULL AND `DS_Processo` IS NOT NULL AND `NM_Processo` != \\\"\\\" AND `DS_Processo` != \\\"\\\" AND `NM_Processo` != \\\"N/A\\\" AND `DS_Processo` != \\\"N/A\\\"\"\n",
      "}\n",
      "```\n",
      "{'consulta_sql_analisada': 'SELECT `NM_Processo`, `DS_Processo` FROM `processos_andamento` WHERE `NM_Cliente` = \\'Ana Souza\\' AND `NM_Processo` IS NOT NULL AND `DS_Processo` IS NOT NULL AND `NM_Processo` != \"\" AND `DS_Processo` != \"\" AND `NM_Processo` != \"N/A\" AND `DS_Processo` != \"N/A\"', 'sql_valid': False, 'sql_issues': 'Os nomes de colunas e tabelas devem estar entre crases se contiverem espaços ou caracteres especiais'}\n"
     ]
    }
   ],
   "source": [
    "consulta_sql_analisada = validar_e_corrigir_sql(consulta_sql)\n",
    "print(consulta_sql_analisada)"
   ]
  },
  {
   "cell_type": "code",
   "execution_count": 50,
   "metadata": {},
   "outputs": [
    {
     "name": "stdout",
     "output_type": "stream",
     "text": [
      "SELECT `NM_Processo`, `DS_Processo` FROM `processos_andamento` WHERE `NM_Cliente` = 'Ana Souza' AND `NM_Processo` IS NOT NULL AND `DS_Processo` IS NOT NULL AND `NM_Processo` != \"\" AND `DS_Processo` != \"\" AND `NM_Processo` != \"N/A\" AND `DS_Processo` != \"N/A\"\n"
     ]
    }
   ],
   "source": [
    "print(consulta_sql_analisada['consulta_sql_analisada'])"
   ]
  },
  {
   "cell_type": "markdown",
   "metadata": {},
   "source": [
    "### Executando a consulta SQL gerada\n",
    "\n",
    "Agora saberemos se o objetvo foi alcançado. Nada de LLM, somente a boa e velha **QUERY**."
   ]
  },
  {
   "cell_type": "code",
   "execution_count": 51,
   "metadata": {},
   "outputs": [],
   "source": [
    "def executar_sql(consulta: str) -> dict:\n",
    "    \"\"\"Executa a consulta SQL e retorna os resultados.\"\"\"   \n",
    "    \n",
    "    if consulta == \"NOT_RELEVANT\":\n",
    "        return {\"resultados\": \"NOT_RELEVANT\"}\n",
    "\n",
    "    try:\n",
    "        resultados = db_manager.execute_query(consulta)\n",
    "        return {\"resultados\": resultados}\n",
    "    except Exception as e:\n",
    "        return {\"erro\": str(e)}"
   ]
  },
  {
   "cell_type": "code",
   "execution_count": 52,
   "metadata": {},
   "outputs": [
    {
     "name": "stdout",
     "output_type": "stream",
     "text": [
      "{'resultados': [{'NM_Processo': 'Avaliação de Desempenho', 'DS_Processo': 'Coleta de feedbacks em andamento.'}]}\n"
     ]
    }
   ],
   "source": [
    "resultados = executar_sql(consulta_sql_analisada['consulta_sql_analisada']) \n",
    "print(str(resultados))"
   ]
  },
  {
   "cell_type": "code",
   "execution_count": 53,
   "metadata": {},
   "outputs": [
    {
     "name": "stdout",
     "output_type": "stream",
     "text": [
      "NM_Processo | DS_Processo\n",
      "------------------------------\n",
      "Avaliação de Desempenho | Coleta de feedbacks em andamento.\n"
     ]
    }
   ],
   "source": [
    "# Obtém os nomes das colunas\n",
    "colunas = resultados[\"resultados\"][0].keys()\n",
    "\n",
    "# Imprime cabeçalho\n",
    "print(\" | \".join(colunas))\n",
    "print(\"-\" * (len(\" | \".join(colunas)) + 5))\n",
    "\n",
    "# Imprime os dados formatados\n",
    "for linha in resultados[\"resultados\"]:\n",
    "    print(\" | \".join(str(valor) for valor in linha.values()))"
   ]
  },
  {
   "cell_type": "markdown",
   "metadata": {},
   "source": [
    "## Conclusão\n",
    "\n",
    "Aparentemente os resultados foram bons, o processo criado abstrai bem a lógica de criação de um SQL, o LLM conseguiu realizar muito bem sua atividade, e, ao menos para mim, a resposta foi o esperado.\n",
    "\n",
    "Claro que quanto mais os Agentes forem refinados, mais a resposta ficará melhor."
   ]
  },
  {
   "cell_type": "markdown",
   "metadata": {},
   "source": [
    "## Próximos Passos\n",
    "\n",
    "Um ponto final só é o começo de uma nova frase, seguindo esse analogia, quero continuar evoluindo esse projeto. Algumas funcionalidades que irei implementar:\n",
    "\n",
    "- Criar um Agente que cria uma resposta para o usuário.\n",
    "- Criar um Grafo com lang-graf.\n",
    "- Criar um Chat utilizando Chainlit.\n",
    "- Quem sabe: Criar um Chatbot no Whatssapp com esse esquema.\n"
   ]
  },
  {
   "cell_type": "markdown",
   "metadata": {},
   "source": [
    "## Minhas Limitações\n",
    "\n",
    "Ainda tenho muitas duvidas quanto o processo de criar consultas a partir de texto natural, o TTQ(text to Query) ainda me parece um pouco complicado, mas isso vai melhorar ao longo do tempo.\n",
    "\n",
    "- Como lidar com várias requisições vindas pelos Whatsapp\n",
    "- Como manter o contexto em uma conversa, o usuário pode fazer uma pergunta e depois outra."
   ]
  },
  {
   "cell_type": "markdown",
   "metadata": {},
   "source": [
    "## Como Imagino Parte da Implementação\n",
    "\n",
    "Já parti do principio que existe uma tabela com toda as informações necessárias. Por obvio ela deverá ser criada e as informações carregadas nela de alguma forma. Parte da lógica que usária é a seguinte:\n",
    "\n",
    "- Criar a tabela que irá receber os processo.\n",
    "- Cada processo criado dentro da ferramenta é responsável por registar seu progresso nessa tabela, pode ser com uma integração passagem de etapa.\n",
    "  - Ao abrir o processo devesse registar o código dele nessa tabela\n",
    "  - Ao passa cada atividade, ou ao menos as mais relevantes para consulta, buscar pela referencia do processo na tabela e atualizar as informações.\n",
    "- Como algumas informações podem ser somente daquele processo, e não caber em um coluna genêrica, pode-se criar uma coluna que contenha um JSON com algumas informações especificas, essas informações podem servir de insumos para o Agente que irá criar a resposta.\n",
    "\n",
    "Para lidar com várias requisições pode ser que de para usar uma fila, por exemplo Kafka."
   ]
  }
 ],
 "metadata": {
  "kernelspec": {
   "display_name": ".venv",
   "language": "python",
   "name": "python3"
  },
  "language_info": {
   "codemirror_mode": {
    "name": "ipython",
    "version": 3
   },
   "file_extension": ".py",
   "mimetype": "text/x-python",
   "name": "python",
   "nbconvert_exporter": "python",
   "pygments_lexer": "ipython3",
   "version": "3.11.4"
  }
 },
 "nbformat": 4,
 "nbformat_minor": 2
}
