{
 "cells": [
  {
   "cell_type": "markdown",
   "metadata": {},
   "source": [
    "# APRENDENDO SOBRE TTQ - TEXT TO QUERY"
   ]
  },
  {
   "cell_type": "code",
   "execution_count": 49,
   "metadata": {},
   "outputs": [],
   "source": [
    "from typing import List, Any, Annotated, Dict, Optional\n",
    "from typing_extensions import TypedDict\n",
    "import operator\n",
    "import requests\n",
    "import re\n",
    "import os\n",
    "import sqlite3\n",
    "from langgraph.graph import StateGraph\n",
    "from langchain_core.prompts import ChatPromptTemplate\n",
    "from langchain_core.output_parsers import JsonOutputParser\n",
    "from langchain_groq import ChatGroq\n",
    "from dotenv import load_dotenv"
   ]
  },
  {
   "cell_type": "code",
   "execution_count": 2,
   "metadata": {},
   "outputs": [
    {
     "data": {
      "text/plain": [
       "True"
      ]
     },
     "execution_count": 2,
     "metadata": {},
     "output_type": "execute_result"
    }
   ],
   "source": [
    "load_dotenv()"
   ]
  },
  {
   "cell_type": "markdown",
   "metadata": {},
   "source": [
    "### Criando o banco de dados"
   ]
  },
  {
   "cell_type": "code",
   "execution_count": 4,
   "metadata": {},
   "outputs": [
    {
     "name": "stdout",
     "output_type": "stream",
     "text": [
      "Dados inseridos com sucesso.\n",
      "Banco de dados SQLite criado com sucesso em ../.db/SQL_AGENT.db\n"
     ]
    }
   ],
   "source": [
    "# Caminho do banco de dados\n",
    "db_path = \"../.db/SQL_AGENT.db\"\n",
    "\n",
    "# Garante que o diretório existe\n",
    "os.makedirs(os.path.dirname(db_path), exist_ok=True)\n",
    "\n",
    "# Conectar ao banco de dados\n",
    "conn = sqlite3.connect(db_path)\n",
    "cursor = conn.cursor()\n",
    "\n",
    "# Criar a tabela processos_andamento\n",
    "cursor.execute(\"\"\"\n",
    "CREATE TABLE IF NOT EXISTS processos_andamento (\n",
    "    ID_Processo_Andamento INTEGER PRIMARY KEY AUTOINCREMENT,\n",
    "    CD_Processo INTEGER NOT NULL,\n",
    "    CD_Atividade INTEGER NOT NULL,\n",
    "    NM_Processo TEXT NOT NULL,\n",
    "    NM_Atividade TEXT NOT NULL,\n",
    "    NM_Cliente TEXT NOT NULL,\n",
    "    Telefone_Cliente TEXT NOT NULL,\n",
    "    DS_Processo TEXT NOT NULL,\n",
    "    DT_Atividade DATE NOT NULL\n",
    ");\n",
    "\"\"\")\n",
    "\n",
    "# Dados iniciais\n",
    "dados_iniciais = [\n",
    "    (1, 101, 'Recrutamento', 'Receber currículo', 'João Silva', '11987654321', 'Recebeu currículo e iniciou análise.', '2024-03-01'),\n",
    "    (1, 102, 'Recrutamento', 'Entrevista inicial', 'João Silva', '11987654321', 'Entrevista marcada para avaliação inicial.', '2024-03-02'),\n",
    "    (2, 201, 'Seleção', 'Teste técnico', 'Maria Oliveira', '11976543210', 'Teste técnico agendado.', '2024-03-03'),\n",
    "    (2, 202, 'Seleção', 'Entrevista final', 'Carlos Pereira', '11965432109', 'Entrevista final marcada.', '2024-03-04'),\n",
    "    (3, 301, 'Avaliação de Desempenho', 'Revisão do desempenho', 'Ana Souza', '11954321098', 'Coleta de feedbacks em andamento.', '2024-03-05'),\n",
    "    (3, 302, 'Avaliação de Desempenho', 'Reunião de feedback', 'Carlos Pereira', '11965432109', 'Reunião agendada com gerente.', '2024-03-06'),\n",
    "    (4, 401, 'Solicitação de Férias', 'Pedido formalizado', 'João Silva', '11987654321', 'Pedido de férias registrado.', '2024-03-07')\n",
    "]\n",
    "\n",
    "# Inserir dados se a tabela estiver vazia\n",
    "cursor.execute(\"SELECT COUNT(*) FROM processos_andamento\")\n",
    "if cursor.fetchone()[0] == 0:\n",
    "    cursor.executemany(\"\"\"\n",
    "        INSERT INTO processos_andamento \n",
    "        (CD_Processo, CD_Atividade, NM_Processo, NM_Atividade, NM_Cliente, Telefone_Cliente, DS_Processo, DT_Atividade)\n",
    "        VALUES (?, ?, ?, ?, ?, ?, ?, ?)\n",
    "    \"\"\", dados_iniciais)\n",
    "    print(\"Dados inseridos com sucesso.\")\n",
    "\n",
    "# Salvar e fechar a conexão\n",
    "conn.commit()\n",
    "conn.close()\n",
    "\n",
    "print(f\"Banco de dados SQLite criado com sucesso em {db_path}\")\n"
   ]
  },
  {
   "cell_type": "markdown",
   "metadata": {},
   "source": [
    "### Criando o gerenciador de banco de dados"
   ]
  },
  {
   "cell_type": "code",
   "execution_count": 7,
   "metadata": {},
   "outputs": [],
   "source": [
    "class DatabaseManager:\n",
    "    def __init__(self, db_path: str = \"../.db/SQL_AGENT.db\"):\n",
    "        \"\"\"Inicializa o gerenciador de banco de dados com SQLite.\"\"\"\n",
    "        self.db_path = db_path\n",
    "        self.connection = sqlite3.connect(self.db_path)\n",
    "        self.connection.row_factory = sqlite3.Row  # Permite acessar os resultados por nome de coluna\n",
    "\n",
    "    def get_schema(self) -> str:\n",
    "        \"\"\"Recupera o esquema do banco de dados SQLite.\"\"\"\n",
    "        try:\n",
    "            cursor = self.connection.cursor()\n",
    "            cursor.execute(\"SELECT name, sql FROM sqlite_master WHERE type='table';\")\n",
    "            schema_info = cursor.fetchall()\n",
    "            \n",
    "            schema = \"\\n\".join(f\"Table: {row['name']}\\n{row['sql']}\" for row in schema_info if row['sql'])\n",
    "            return schema\n",
    "        except sqlite3.DatabaseError as e:\n",
    "            raise Exception(f\"Erro ao obter o esquema do banco de dados: {str(e)}\")\n",
    "\n",
    "    def execute_query(self, query: str) -> List[Any]:\n",
    "        \"\"\"Executa uma query SQL no banco SQLite e retorna os resultados.\"\"\"\n",
    "        try:\n",
    "            cursor = self.connection.cursor()\n",
    "            cursor.execute(query)\n",
    "            self.connection.commit()\n",
    "\n",
    "            # Retorna os resultados da consulta, se houver\n",
    "            if query.strip().lower().startswith(\"select\"):\n",
    "                return [dict(row) for row in cursor.fetchall()]\n",
    "            return []\n",
    "        except sqlite3.DatabaseError as e:\n",
    "            raise Exception(f\"Erro ao executar a consulta: {str(e)}\")\n",
    "\n",
    "    def close(self):\n",
    "        \"\"\"Fecha a conexão com o banco de dados.\"\"\"\n",
    "        self.connection.close()"
   ]
  },
  {
   "cell_type": "code",
   "execution_count": 29,
   "metadata": {},
   "outputs": [
    {
     "name": "stdout",
     "output_type": "stream",
     "text": [
      "Table: processos_andamento\n",
      "CREATE TABLE processos_andamento (\n",
      "    ID_Processo_Andamento INTEGER PRIMARY KEY AUTOINCREMENT,\n",
      "    CD_Processo INTEGER NOT NULL,\n",
      "    CD_Atividade INTEGER NOT NULL,\n",
      "    NM_Processo TEXT NOT NULL,\n",
      "    NM_Atividade TEXT NOT NULL,\n",
      "    NM_Cliente TEXT NOT NULL,\n",
      "    Telefone_Cliente TEXT NOT NULL,\n",
      "    DS_Processo TEXT NOT NULL,\n",
      "    DT_Atividade DATE NOT NULL\n",
      ")\n",
      "Table: sqlite_sequence\n",
      "CREATE TABLE sqlite_sequence(name,seq)\n",
      "\n",
      "\n",
      "{'ID_Processo_Andamento': 1, 'CD_Processo': 1, 'CD_Atividade': 101, 'NM_Processo': 'Recrutamento', 'NM_Atividade': 'Receber currículo', 'NM_Cliente': 'João Silva', 'Telefone_Cliente': '11987654321', 'DS_Processo': 'Recebeu currículo e iniciou análise.', 'DT_Atividade': '2024-03-01'}\n"
     ]
    }
   ],
   "source": [
    "db_manager = DatabaseManager()\n",
    "\n",
    "print(db_manager.get_schema())\n",
    "print(\"\\n\"*2 + str(db_manager.execute_query(\"SELECT * FROM processos_andamento\")[0]))"
   ]
  },
  {
   "cell_type": "code",
   "execution_count": 27,
   "metadata": {},
   "outputs": [],
   "source": [
    "class LLMManager:\n",
    "    def __init__(self):\n",
    "        self.llm = ChatGroq(\n",
    "            model=\"deepseek-r1-distill-llama-70b\",\n",
    "            api_key=os.getenv(\"GROQ_API_KEY\"),\n",
    "            temperature=0.1,\n",
    "            max_retries=2,\n",
    "        )\n",
    "\n",
    "    def invoke(self, prompt: ChatPromptTemplate, **kwargs) -> str:\n",
    "        messages = prompt.format_messages(**kwargs)\n",
    "        response = self.llm.invoke(messages)\n",
    "        return response.content"
   ]
  },
  {
   "cell_type": "code",
   "execution_count": 30,
   "metadata": {},
   "outputs": [
    {
     "name": "stdout",
     "output_type": "stream",
     "text": [
      "<think>\n",
      "Okay, so Rodrigo just introduced himself and asked my name. I need to respond in a friendly and happy way. Since I'm supposed to always be cheerful, I should keep the tone upbeat. I should probably greet him back and share my name, which is Brian. Maybe add an emoji to keep it lively. Let me make sure the Portuguese is correct and the response flows naturally.\n",
      "</think>\n",
      "\n",
      "Olá Rodrigo! Eu sou o Brian! 😊 Como posso ajudar você hoje?\n"
     ]
    }
   ],
   "source": [
    "llm_manager = LLMManager()\n",
    "\n",
    "template = ChatPromptTemplate([\n",
    "    (\"system\", \"Seu nome é Brian, você está sempre feliz e alegre, sempre respondendo em PT-BR.\"),\n",
    "    (\"human\", \"Olá, meu nome é Rodrigo, e o seu?\"),   \n",
    "])\n",
    "\n",
    "print(llm_manager.invoke(template))"
   ]
  },
  {
   "cell_type": "code",
   "execution_count": 31,
   "metadata": {},
   "outputs": [],
   "source": [
    "def analisar_pergunta(pergunta: str) -> dict:\n",
    "    \"\"\"Analisa a pergunta do usuário e identifica as tabelas e colunas relevantes.\"\"\"    \n",
    "    esquema = db_manager.get_schema()\n",
    "\n",
    "    prompt = ChatPromptTemplate.from_messages([\n",
    "        (\"system\", '''Você é um analista de dados que pode ajudar a resumir tabelas SQL e interpretar perguntas de usuários sobre um banco de dados.  \n",
    "Dada a pergunta e o esquema do banco de dados, identifique as tabelas e colunas relevantes.  \n",
    "Se a pergunta não for relevante para o banco de dados ou se não houver informações suficientes para respondê-la, defina \"is_relevant\" como falso.\n",
    "\n",
    "Sua resposta deve estar no seguinte formato JSON:\n",
    "{{\n",
    "    \"is_relevant\": boolean,\n",
    "    \"relevant_tables\": [\n",
    "        {{\n",
    "            \"table_name\": string,\n",
    "            \"columns\": [string],\n",
    "            \"noun_columns\": [string]\n",
    "        }}\n",
    "    ]\n",
    "}}\n",
    "\n",
    "O campo \"noun_columns\" deve conter apenas as colunas que são relevantes para a pergunta e que contêm substantivos ou nomes.  \n",
    "Por exemplo, a coluna \"Nome do Artista\" contém substantivos relevantes para a pergunta \"Quais são os artistas mais vendidos?\",  \n",
    "mas a coluna \"ID do Artista\" não é relevante, pois não contém um substantivo. Não inclua colunas que contenham números.\n",
    "'''),\n",
    "        (\"human\", \"===Esquema do banco de dados:\\n{schema}\\n\\n===Pergunta do usuário:\\n{question}\\n\\nIdentifique as tabelas e colunas relevantes:\")\n",
    "    ])\n",
    "\n",
    "    analisador_json = JsonOutputParser()\n",
    "    \n",
    "    resposta = llm_manager.invoke(prompt, schema=esquema, question=pergunta)\n",
    "    resposta_analisada = analisador_json.parse(resposta)\n",
    "    return {\"pergunta_analisada\": resposta_analisada}\n"
   ]
  },
  {
   "cell_type": "code",
   "execution_count": 46,
   "metadata": {},
   "outputs": [
    {
     "name": "stdout",
     "output_type": "stream",
     "text": [
      "{'is_relevant': True, 'relevant_tables': [{'table_name': 'processos_andamento', 'columns': ['NM_Cliente', 'NM_Processo', 'DS_Processo'], 'noun_columns': ['NM_Cliente', 'NM_Processo', 'DS_Processo']}]}\n"
     ]
    }
   ],
   "source": [
    "pergunta = \"Meu nome é João Silva, e gostaria de saber quais são os meus processo?\"\n",
    "pergunta_analisada = analisar_pergunta(pergunta)['pergunta_analisada']\n",
    "print(pergunta_analisada)"
   ]
  },
  {
   "cell_type": "code",
   "execution_count": 44,
   "metadata": {},
   "outputs": [],
   "source": [
    "def obter_substantivos_unicos(pergunta_analisada: dict) -> dict:\n",
    "    \"\"\"Encontra substantivos únicos nas tabelas e colunas relevantes.\"\"\"    \n",
    "    \n",
    "    if not pergunta_analisada['is_relevant']:\n",
    "        return {\"substantivos_unicos\": []}\n",
    "\n",
    "    substantivos_unicos = set()\n",
    "    for info_tabela in pergunta_analisada['relevant_tables']:\n",
    "        nome_tabela = info_tabela['table_name']\n",
    "        colunas_substantivos = info_tabela['noun_columns']\n",
    "        \n",
    "        if colunas_substantivos:\n",
    "            nomes_colunas = ', '.join(f\"`{col}`\" for col in colunas_substantivos)\n",
    "            consulta = f\"SELECT DISTINCT {nomes_colunas} FROM `{nome_tabela}`\"           \n",
    "            resultados = db_manager.execute_query(consulta)           \n",
    "            for linha in resultados:\n",
    "                substantivos_unicos.update(str(valor) for valor in linha if valor)\n",
    "\n",
    "    return {\"substantivos_unicos\": list(substantivos_unicos)}\n"
   ]
  },
  {
   "cell_type": "code",
   "execution_count": 45,
   "metadata": {},
   "outputs": [
    {
     "name": "stdout",
     "output_type": "stream",
     "text": [
      "['DS_Processo', 'NM_Cliente', 'NM_Atividade', 'NM_Processo']\n"
     ]
    }
   ],
   "source": [
    "substantivos_unicos = obter_substantivos_unicos(pergunta_analisada)['substantivos_unicos']\n",
    "print(substantivos_unicos)"
   ]
  },
  {
   "cell_type": "code",
   "execution_count": 50,
   "metadata": {},
   "outputs": [],
   "source": [
    "def gerar_sql(pergunta: str, pergunta_analisada: dict, substantivos_unicos: list) -> dict:\n",
    "    \"\"\"Gera uma consulta SQL com base na pergunta analisada e nos substantivos únicos.\"\"\"  \n",
    "\n",
    "    if not pergunta_analisada['is_relevant']:\n",
    "        return {\"sql_query\": \"NOT_RELEVANT\", \"is_relevant\": False}\n",
    "\n",
    "    esquema = db_manager.get_schema()\n",
    "\n",
    "    prompt = ChatPromptTemplate.from_messages([\n",
    "        (\"system\", '''\n",
    "Você é um assistente de IA que gera consultas SQL com base na pergunta do usuário, no esquema do banco de dados e nos substantivos únicos encontrados nas tabelas relevantes. Gere uma consulta SQL válida para responder à pergunta do usuário.\n",
    "\n",
    "Se não houver informações suficientes para escrever uma consulta SQL, responda com \"NOT_ENOUGH_INFO\".\n",
    "\n",
    "Aqui estão alguns exemplos:\n",
    "\n",
    "1. Qual é o produto mais vendido?\n",
    "Resposta: SELECT product_name, SUM(quantity) as total_quantity FROM sales WHERE product_name IS NOT NULL AND quantity IS NOT NULL AND product_name != \"\" AND quantity != \"\" AND product_name != \"N/A\" AND quantity != \"N/A\" GROUP BY product_name ORDER BY total_quantity DESC LIMIT 1\n",
    "\n",
    "2. Qual é a receita total para cada produto?\n",
    "Resposta: SELECT \\`product name\\`, SUM(quantity * price) as total_revenue FROM sales WHERE \\`product name\\` IS NOT NULL AND quantity IS NOT NULL AND price IS NOT NULL AND \\`product name\\` != \"\" AND quantity != \"\" AND price != \"\" AND \\`product name\\` != \"N/A\" AND quantity != \"N/A\" AND price != \"N/A\" GROUP BY \\`product name\\`  ORDER BY total_revenue DESC\n",
    "\n",
    "3. Qual é a participação de mercado de cada produto?\n",
    "Resposta: SELECT \\`product name\\`, SUM(quantity) * 100.0 / (SELECT SUM(quantity) FROM sales) as market_share FROM sales WHERE \\`product name\\` IS NOT NULL AND quantity IS NOT NULL AND \\`product name\\` != \"\" AND quantity != \"\" AND \\`product name\\` != \"N/A\" AND quantity != \"N/A\" GROUP BY \\`product name\\`  ORDER BY market_share DESC\n",
    "\n",
    "4. Plote a distribuição de renda ao longo do tempo.\n",
    "Resposta: SELECT income, COUNT(*) as count FROM users WHERE income IS NOT NULL AND income != \"\" AND income != \"N/A\" GROUP BY income\n",
    "\n",
    "OS RESULTADOS DEVEM ESTAR APENAS NO SEGUINTE FORMATO, ENTÃO CERTIFIQUE-SE DE INCLUIR APENAS DUAS OU TRÊS COLUNAS:\n",
    "[[x, y]]\n",
    "ou \n",
    "[[label, x, y]]\n",
    "\n",
    "Para perguntas como \"plote uma distribuição das tarifas pagas por homens e mulheres\", conte a frequência de cada tarifa e plote-a. O eixo x deve ser a tarifa e o eixo y deve ser a contagem de pessoas que pagaram essa tarifa.\n",
    "IGNORE TODAS AS LINHAS ONDE QUALQUER COLUNA SEJA NULL, \"N/A\" ou \"\".\n",
    "Apenas forneça a string da consulta SQL. Não a formate. Certifique-se de usar a grafia correta dos substantivos conforme fornecido na lista de substantivos únicos. Todos os nomes de tabelas e colunas devem estar entre crases.\n",
    "'''),\n",
    "        (\"human\", '''===Esquema do banco de dados:\n",
    "{schema}\n",
    "\n",
    "===Pergunta do usuário:\n",
    "{question}\n",
    "\n",
    "===Tabelas e colunas relevantes:\n",
    "{parsed_question}\n",
    "\n",
    "===Substantivos únicos nas tabelas relevantes:\n",
    "{unique_nouns}\n",
    "\n",
    "Gere a string da consulta SQL'''),\n",
    "    ])\n",
    "\n",
    "    resposta = llm_manager.invoke(\n",
    "        prompt, \n",
    "        schema=esquema, \n",
    "        question=pergunta, \n",
    "        parsed_question=pergunta_analisada, \n",
    "        unique_nouns=substantivos_unicos\n",
    "    )\n",
    "\n",
    "    if resposta.strip() == \"NOT_ENOUGH_INFO\":\n",
    "        return {\"consulta_sql\": \"NOT_RELEVANT\"}\n",
    "    else:\n",
    "        return {\"consulta_sql\": re.sub(r'<think>.*?</think>\\s*', '', resposta, flags=re.DOTALL)} \n"
   ]
  },
  {
   "cell_type": "code",
   "execution_count": 51,
   "metadata": {},
   "outputs": [
    {
     "name": "stdout",
     "output_type": "stream",
     "text": [
      "SELECT NM_Processo, DS_Processo FROM processos_andamento WHERE NM_Cliente = 'João Silva' AND NM_Cliente IS NOT NULL AND NM_Cliente != \"\" AND NM_Cliente != \"N/A\" AND NM_Processo IS NOT NULL AND NM_Processo != \"\" AND NM_Processo != \"N/A\" AND DS_Processo IS NOT NULL AND DS_Processo != \"\" AND DS_Processo != \"N/A\"\n"
     ]
    }
   ],
   "source": [
    "consulta_sql = gerar_sql(pergunta, pergunta_analisada, substantivos_unicos)['consulta_sql']\n",
    "print(consulta_sql)"
   ]
  },
  {
   "cell_type": "code",
   "execution_count": 54,
   "metadata": {},
   "outputs": [],
   "source": [
    "def validar_e_corrigir_sql(consulta_sql) -> dict:\n",
    "        \"\"\"Valida e corrige a consulta SQL gerada.\"\"\"      \n",
    "\n",
    "        if consulta_sql == \"NOT_RELEVANT\":\n",
    "            return {\"sql_query\": \"NOT_RELEVANT\", \"sql_valid\": False}\n",
    "        \n",
    "        esquema = db_manager.get_schema()\n",
    "\n",
    "        prompt = ChatPromptTemplate.from_messages([\n",
    "            (\"system\", '''\n",
    "Você é um assistente de IA que valida e corrige consultas SQL. Sua tarefa é:\n",
    "1. Verificar se a consulta SQL é válida.\n",
    "2. Garantir que todos os nomes de tabelas e colunas estejam corretamente escritos e existam no esquema do banco de dados. Todos os nomes de tabelas e colunas devem estar entre crases.\n",
    "3. Se houver problemas, corrija-os e forneça a consulta SQL corrigida.\n",
    "4. Se não houver problemas, retorne a consulta original.\n",
    "\n",
    "Responda no formato JSON com a seguinte estrutura. Responda apenas com o JSON:\n",
    "{{\n",
    "    \"valid\": booleano,\n",
    "    \"issues\": string ou null,\n",
    "    \"corrected_query\": string\n",
    "}}\n",
    "'''),\n",
    "            (\"human\", '''===Esquema do banco de dados:\n",
    "{esquema}\n",
    "\n",
    "===Consulta SQL gerada:\n",
    "{consulta_sql}\n",
    "\n",
    "Responda no formato JSON com a seguinte estrutura. Responda apenas com o JSON:\n",
    "{{\n",
    "    \"valid\": booleano,\n",
    "    \"issues\": string ou null,\n",
    "    \"corrected_query\": string\n",
    "}}\n",
    "\n",
    "Por exemplo:\n",
    "1. {{\n",
    "    \"valid\": true,\n",
    "    \"issues\": null,\n",
    "    \"corrected_query\": \"None\"\n",
    "}}\n",
    "             \n",
    "2. {{\n",
    "    \"valid\": false,\n",
    "    \"issues\": \"A coluna USERS não existe\",\n",
    "    \"corrected_query\": \"SELECT * FROM \\`users\\` WHERE age > 25\"\n",
    "}}\n",
    "\n",
    "3. {{\n",
    "    \"valid\": false,\n",
    "    \"issues\": \"Os nomes de colunas e tabelas devem estar entre crases se contiverem espaços ou caracteres especiais\",\n",
    "    \"corrected_query\": \"SELECT * FROM \\`gross income\\` WHERE \\`age\\` > 25\"\n",
    "}}\n",
    "             \n",
    "'''),\n",
    "        ])\n",
    "\n",
    "        analisador_saida = JsonOutputParser()\n",
    "        resposta = llm_manager.invoke(prompt, esquema=esquema, consulta_sql=consulta_sql)\n",
    "        resultado = analisador_saida.parse(resposta)\n",
    "\n",
    "        if resultado[\"valid\"] and resultado[\"issues\"] is None:\n",
    "            return {\"consulta_sql_analisada\": consulta_sql, \"sql_valid\": True}\n",
    "        else:\n",
    "            return {\n",
    "                \"consulta_sql_analisada\": resultado[\"corrected_query\"],\n",
    "                \"sql_valid\": resultado[\"valid\"],\n",
    "                \"sql_issues\": resultado[\"issues\"]\n",
    "            }\n"
   ]
  },
  {
   "cell_type": "code",
   "execution_count": 57,
   "metadata": {},
   "outputs": [
    {
     "name": "stdout",
     "output_type": "stream",
     "text": [
      "{'consulta_sql_analisada': 'SELECT NM_Processo, DS_Processo FROM processos_andamento WHERE NM_Cliente = \\'João Silva\\' AND NM_Cliente IS NOT NULL AND NM_Cliente != \"\" AND NM_Cliente != \"N/A\" AND NM_Processo IS NOT NULL AND NM_Processo != \"\" AND NM_Processo != \"N/A\" AND DS_Processo IS NOT NULL AND DS_Processo != \"\" AND DS_Processo != \"N/A\"', 'sql_valid': True}\n"
     ]
    }
   ],
   "source": [
    "consulta_sql_analisada = validar_e_corrigir_sql(consulta_sql)\n",
    "print(consulta_sql_analisada)"
   ]
  },
  {
   "cell_type": "code",
   "execution_count": 58,
   "metadata": {},
   "outputs": [
    {
     "name": "stdout",
     "output_type": "stream",
     "text": [
      "SELECT NM_Processo, DS_Processo FROM processos_andamento WHERE NM_Cliente = 'João Silva' AND NM_Cliente IS NOT NULL AND NM_Cliente != \"\" AND NM_Cliente != \"N/A\" AND NM_Processo IS NOT NULL AND NM_Processo != \"\" AND NM_Processo != \"N/A\" AND DS_Processo IS NOT NULL AND DS_Processo != \"\" AND DS_Processo != \"N/A\"\n"
     ]
    }
   ],
   "source": [
    "print(consulta_sql_analisada['consulta_sql_analisada'])"
   ]
  },
  {
   "cell_type": "code",
   "execution_count": 59,
   "metadata": {},
   "outputs": [],
   "source": [
    "def executar_sql(consulta: str) -> dict:\n",
    "    \"\"\"Executa a consulta SQL e retorna os resultados.\"\"\"   \n",
    "    \n",
    "    if consulta == \"NOT_RELEVANT\":\n",
    "        return {\"resultados\": \"NOT_RELEVANT\"}\n",
    "\n",
    "    try:\n",
    "        resultados = db_manager.execute_query(consulta)\n",
    "        return {\"resultados\": resultados}\n",
    "    except Exception as e:\n",
    "        return {\"erro\": str(e)}"
   ]
  },
  {
   "cell_type": "code",
   "execution_count": 60,
   "metadata": {},
   "outputs": [
    {
     "name": "stdout",
     "output_type": "stream",
     "text": [
      "{'resultados': [{'NM_Processo': 'Recrutamento', 'DS_Processo': 'Recebeu currículo e iniciou análise.'}, {'NM_Processo': 'Recrutamento', 'DS_Processo': 'Entrevista marcada para avaliação inicial.'}, {'NM_Processo': 'Solicitação de Férias', 'DS_Processo': 'Pedido de férias registrado.'}]}\n"
     ]
    }
   ],
   "source": [
    "resultados = executar_sql(consulta_sql_analisada['consulta_sql_analisada']) \n",
    "print(str(resultados))"
   ]
  },
  {
   "cell_type": "code",
   "execution_count": 62,
   "metadata": {},
   "outputs": [
    {
     "name": "stdout",
     "output_type": "stream",
     "text": [
      "NM_Processo | DS_Processo\n",
      "------------------------------\n",
      "Recrutamento | Recebeu currículo e iniciou análise.\n",
      "Recrutamento | Entrevista marcada para avaliação inicial.\n",
      "Solicitação de Férias | Pedido de férias registrado.\n"
     ]
    }
   ],
   "source": [
    "# Obtém os nomes das colunas\n",
    "colunas = resultados[\"resultados\"][0].keys()\n",
    "\n",
    "# Imprime cabeçalho\n",
    "print(\" | \".join(colunas))\n",
    "print(\"-\" * (len(\" | \".join(colunas)) + 5))\n",
    "\n",
    "# Imprime os dados formatados\n",
    "for linha in resultados[\"resultados\"]:\n",
    "    print(\" | \".join(str(valor) for valor in linha.values()))"
   ]
  },
  {
   "cell_type": "markdown",
   "metadata": {},
   "source": [
    "## WorkflowManager\n",
    "\n",
    "Essa classe represanta o fluxo de trabalho do Agent."
   ]
  },
  {
   "cell_type": "code",
   "execution_count": null,
   "metadata": {},
   "outputs": [],
   "source": [
    "class WorkflowManager:\n",
    "    def __init__(self):\n",
    "        self.sql_agent = SQLAgent()\n",
    "        \n",
    "    def create_workflow(self):\n",
    "        \n",
    "        workflow = StateGraph(input=InputState, output=OutputState)\n",
    "        \n",
    "        # Add nodes to the graph\n",
    "        workflow.add_node(\"parse_question\", self.sql_agent.parse_question)\n",
    "        \n",
    "        workflow.set_entry_point(\"parse_question\")\n",
    "        \n",
    "        return workflow\n",
    "    \n",
    "    def returnGraph(self):\n",
    "        return self.create_workflow().compile()\n",
    "\n",
    "    def run_sql_agent(self, question: str, uuid: str) -> dict:\n",
    "        \"\"\"Run the SQL agent workflow and return the formatted answer and visualization recommendation.\"\"\"\n",
    "        app = self.create_workflow().compile()\n",
    "        result = app.invoke({\"question\": question, \"uuid\": uuid})\n",
    "        return {\n",
    "            \"answer\": result['answer'],\n",
    "            \"visualization\": result['visualization'],\n",
    "            \"visualization_reason\": result['visualization_reason'],\n",
    "            \"formatted_data_for_visualization\": result['formatted_data_for_visualization']\n",
    "        }"
   ]
  }
 ],
 "metadata": {
  "kernelspec": {
   "display_name": ".venv",
   "language": "python",
   "name": "python3"
  },
  "language_info": {
   "codemirror_mode": {
    "name": "ipython",
    "version": 3
   },
   "file_extension": ".py",
   "mimetype": "text/x-python",
   "name": "python",
   "nbconvert_exporter": "python",
   "pygments_lexer": "ipython3",
   "version": "3.11.4"
  }
 },
 "nbformat": 4,
 "nbformat_minor": 2
}
